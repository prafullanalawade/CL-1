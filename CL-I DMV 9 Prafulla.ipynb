{
 "cells": [
  {
   "cell_type": "code",
   "execution_count": 1,
   "id": "c87ece63",
   "metadata": {},
   "outputs": [],
   "source": [
    "#Name : Nalawade Prafulla Chandrashekhar.\n",
    "#Roll No.: 42 (B.E.A.I.& D.S.)"
   ]
  },
  {
   "cell_type": "markdown",
   "id": "d94c6c34",
   "metadata": {},
   "source": [
    "## Data Cleaning and Preparation "
   ]
  },
  {
   "cell_type": "code",
   "execution_count": 1,
   "id": "40f55dd0",
   "metadata": {},
   "outputs": [],
   "source": [
    "# Problem Statement: Analyzing Customer Churn in a Telecommunications Company \n",
    "# Dataset: \"Telecom_Customer_Churn.csv\" \n",
    "# Description: The dataset contains information about customers of a telecommunications \n",
    "# company and whether they have churned (i.e., discontinued their services). The dataset \n",
    "# includes various attributes of the customers, such as their demographics, usage patterns, and \n",
    "# account information. The goal is to perform data cleaning and preparation to gain insights \n",
    "# into the factors that contribute to customer churn. \n",
    "# Tasks to Perform: "
   ]
  },
  {
   "cell_type": "markdown",
   "id": "0ff9b777",
   "metadata": {},
   "source": [
    "### 1. Import the \"Telecom_Customer_Churn.csv\" dataset."
   ]
  },
  {
   "cell_type": "code",
   "execution_count": 19,
   "id": "911c651a",
   "metadata": {},
   "outputs": [],
   "source": [
    "import pandas as pd\n",
    "import numpy as np\n",
    "import matplotlib.pyplot as plt\n",
    "df=pd.read_csv(r\"C:\\Users\\PRAFULL\\OneDrive\\Desktop\\Telco-Customer-Churn.csv\")"
   ]
  },
  {
   "cell_type": "markdown",
   "id": "2cc876ec",
   "metadata": {},
   "source": [
    "### 2.  Explore the dataset to understand its structure and content. "
   ]
  },
  {
   "cell_type": "code",
   "execution_count": 20,
   "id": "fd0bdd5e",
   "metadata": {},
   "outputs": [
    {
     "data": {
      "text/html": [
       "<div>\n",
       "<style scoped>\n",
       "    .dataframe tbody tr th:only-of-type {\n",
       "        vertical-align: middle;\n",
       "    }\n",
       "\n",
       "    .dataframe tbody tr th {\n",
       "        vertical-align: top;\n",
       "    }\n",
       "\n",
       "    .dataframe thead th {\n",
       "        text-align: right;\n",
       "    }\n",
       "</style>\n",
       "<table border=\"1\" class=\"dataframe\">\n",
       "  <thead>\n",
       "    <tr style=\"text-align: right;\">\n",
       "      <th></th>\n",
       "      <th>customerID</th>\n",
       "      <th>gender</th>\n",
       "      <th>SeniorCitizen</th>\n",
       "      <th>Partner</th>\n",
       "      <th>Dependents</th>\n",
       "      <th>tenure</th>\n",
       "      <th>PhoneService</th>\n",
       "      <th>MultipleLines</th>\n",
       "      <th>InternetService</th>\n",
       "      <th>OnlineSecurity</th>\n",
       "      <th>...</th>\n",
       "      <th>DeviceProtection</th>\n",
       "      <th>TechSupport</th>\n",
       "      <th>StreamingTV</th>\n",
       "      <th>StreamingMovies</th>\n",
       "      <th>Contract</th>\n",
       "      <th>PaperlessBilling</th>\n",
       "      <th>PaymentMethod</th>\n",
       "      <th>MonthlyCharges</th>\n",
       "      <th>TotalCharges</th>\n",
       "      <th>Churn</th>\n",
       "    </tr>\n",
       "  </thead>\n",
       "  <tbody>\n",
       "    <tr>\n",
       "      <th>0</th>\n",
       "      <td>7590-VHVEG</td>\n",
       "      <td>Female</td>\n",
       "      <td>0</td>\n",
       "      <td>Yes</td>\n",
       "      <td>No</td>\n",
       "      <td>1</td>\n",
       "      <td>No</td>\n",
       "      <td>No phone service</td>\n",
       "      <td>DSL</td>\n",
       "      <td>No</td>\n",
       "      <td>...</td>\n",
       "      <td>No</td>\n",
       "      <td>No</td>\n",
       "      <td>No</td>\n",
       "      <td>No</td>\n",
       "      <td>Month-to-month</td>\n",
       "      <td>Yes</td>\n",
       "      <td>Electronic check</td>\n",
       "      <td>29.85</td>\n",
       "      <td>29.85</td>\n",
       "      <td>No</td>\n",
       "    </tr>\n",
       "    <tr>\n",
       "      <th>1</th>\n",
       "      <td>5575-GNVDE</td>\n",
       "      <td>Male</td>\n",
       "      <td>0</td>\n",
       "      <td>No</td>\n",
       "      <td>No</td>\n",
       "      <td>34</td>\n",
       "      <td>Yes</td>\n",
       "      <td>No</td>\n",
       "      <td>DSL</td>\n",
       "      <td>Yes</td>\n",
       "      <td>...</td>\n",
       "      <td>Yes</td>\n",
       "      <td>No</td>\n",
       "      <td>No</td>\n",
       "      <td>No</td>\n",
       "      <td>One year</td>\n",
       "      <td>No</td>\n",
       "      <td>Mailed check</td>\n",
       "      <td>56.95</td>\n",
       "      <td>1889.5</td>\n",
       "      <td>No</td>\n",
       "    </tr>\n",
       "    <tr>\n",
       "      <th>2</th>\n",
       "      <td>3668-QPYBK</td>\n",
       "      <td>Male</td>\n",
       "      <td>0</td>\n",
       "      <td>No</td>\n",
       "      <td>No</td>\n",
       "      <td>2</td>\n",
       "      <td>Yes</td>\n",
       "      <td>No</td>\n",
       "      <td>DSL</td>\n",
       "      <td>Yes</td>\n",
       "      <td>...</td>\n",
       "      <td>No</td>\n",
       "      <td>No</td>\n",
       "      <td>No</td>\n",
       "      <td>No</td>\n",
       "      <td>Month-to-month</td>\n",
       "      <td>Yes</td>\n",
       "      <td>Mailed check</td>\n",
       "      <td>53.85</td>\n",
       "      <td>108.15</td>\n",
       "      <td>Yes</td>\n",
       "    </tr>\n",
       "    <tr>\n",
       "      <th>3</th>\n",
       "      <td>7795-CFOCW</td>\n",
       "      <td>Male</td>\n",
       "      <td>0</td>\n",
       "      <td>No</td>\n",
       "      <td>No</td>\n",
       "      <td>45</td>\n",
       "      <td>No</td>\n",
       "      <td>No phone service</td>\n",
       "      <td>DSL</td>\n",
       "      <td>Yes</td>\n",
       "      <td>...</td>\n",
       "      <td>Yes</td>\n",
       "      <td>Yes</td>\n",
       "      <td>No</td>\n",
       "      <td>No</td>\n",
       "      <td>One year</td>\n",
       "      <td>No</td>\n",
       "      <td>Bank transfer (automatic)</td>\n",
       "      <td>42.30</td>\n",
       "      <td>1840.75</td>\n",
       "      <td>No</td>\n",
       "    </tr>\n",
       "    <tr>\n",
       "      <th>4</th>\n",
       "      <td>9237-HQITU</td>\n",
       "      <td>Female</td>\n",
       "      <td>0</td>\n",
       "      <td>No</td>\n",
       "      <td>No</td>\n",
       "      <td>2</td>\n",
       "      <td>Yes</td>\n",
       "      <td>No</td>\n",
       "      <td>Fiber optic</td>\n",
       "      <td>No</td>\n",
       "      <td>...</td>\n",
       "      <td>No</td>\n",
       "      <td>No</td>\n",
       "      <td>No</td>\n",
       "      <td>No</td>\n",
       "      <td>Month-to-month</td>\n",
       "      <td>Yes</td>\n",
       "      <td>Electronic check</td>\n",
       "      <td>70.70</td>\n",
       "      <td>151.65</td>\n",
       "      <td>Yes</td>\n",
       "    </tr>\n",
       "  </tbody>\n",
       "</table>\n",
       "<p>5 rows × 21 columns</p>\n",
       "</div>"
      ],
      "text/plain": [
       "   customerID  gender  SeniorCitizen Partner Dependents  tenure PhoneService  \\\n",
       "0  7590-VHVEG  Female              0     Yes         No       1           No   \n",
       "1  5575-GNVDE    Male              0      No         No      34          Yes   \n",
       "2  3668-QPYBK    Male              0      No         No       2          Yes   \n",
       "3  7795-CFOCW    Male              0      No         No      45           No   \n",
       "4  9237-HQITU  Female              0      No         No       2          Yes   \n",
       "\n",
       "      MultipleLines InternetService OnlineSecurity  ... DeviceProtection  \\\n",
       "0  No phone service             DSL             No  ...               No   \n",
       "1                No             DSL            Yes  ...              Yes   \n",
       "2                No             DSL            Yes  ...               No   \n",
       "3  No phone service             DSL            Yes  ...              Yes   \n",
       "4                No     Fiber optic             No  ...               No   \n",
       "\n",
       "  TechSupport StreamingTV StreamingMovies        Contract PaperlessBilling  \\\n",
       "0          No          No              No  Month-to-month              Yes   \n",
       "1          No          No              No        One year               No   \n",
       "2          No          No              No  Month-to-month              Yes   \n",
       "3         Yes          No              No        One year               No   \n",
       "4          No          No              No  Month-to-month              Yes   \n",
       "\n",
       "               PaymentMethod MonthlyCharges  TotalCharges Churn  \n",
       "0           Electronic check          29.85         29.85    No  \n",
       "1               Mailed check          56.95        1889.5    No  \n",
       "2               Mailed check          53.85        108.15   Yes  \n",
       "3  Bank transfer (automatic)          42.30       1840.75    No  \n",
       "4           Electronic check          70.70        151.65   Yes  \n",
       "\n",
       "[5 rows x 21 columns]"
      ]
     },
     "execution_count": 20,
     "metadata": {},
     "output_type": "execute_result"
    }
   ],
   "source": [
    "df.head()"
   ]
  },
  {
   "cell_type": "code",
   "execution_count": 21,
   "id": "4d55a24b",
   "metadata": {},
   "outputs": [
    {
     "name": "stdout",
     "output_type": "stream",
     "text": [
      "<class 'pandas.core.frame.DataFrame'>\n",
      "RangeIndex: 7043 entries, 0 to 7042\n",
      "Data columns (total 21 columns):\n",
      " #   Column            Non-Null Count  Dtype  \n",
      "---  ------            --------------  -----  \n",
      " 0   customerID        7043 non-null   object \n",
      " 1   gender            7043 non-null   object \n",
      " 2   SeniorCitizen     7043 non-null   int64  \n",
      " 3   Partner           7043 non-null   object \n",
      " 4   Dependents        7043 non-null   object \n",
      " 5   tenure            7043 non-null   int64  \n",
      " 6   PhoneService      7043 non-null   object \n",
      " 7   MultipleLines     7043 non-null   object \n",
      " 8   InternetService   7043 non-null   object \n",
      " 9   OnlineSecurity    7043 non-null   object \n",
      " 10  OnlineBackup      7043 non-null   object \n",
      " 11  DeviceProtection  7043 non-null   object \n",
      " 12  TechSupport       7043 non-null   object \n",
      " 13  StreamingTV       7043 non-null   object \n",
      " 14  StreamingMovies   7043 non-null   object \n",
      " 15  Contract          7043 non-null   object \n",
      " 16  PaperlessBilling  7043 non-null   object \n",
      " 17  PaymentMethod     7043 non-null   object \n",
      " 18  MonthlyCharges    7043 non-null   float64\n",
      " 19  TotalCharges      7043 non-null   object \n",
      " 20  Churn             7043 non-null   object \n",
      "dtypes: float64(1), int64(2), object(18)\n",
      "memory usage: 1.1+ MB\n"
     ]
    }
   ],
   "source": [
    "df.info()"
   ]
  },
  {
   "cell_type": "code",
   "execution_count": 22,
   "id": "864b8837",
   "metadata": {},
   "outputs": [
    {
     "data": {
      "text/html": [
       "<div>\n",
       "<style scoped>\n",
       "    .dataframe tbody tr th:only-of-type {\n",
       "        vertical-align: middle;\n",
       "    }\n",
       "\n",
       "    .dataframe tbody tr th {\n",
       "        vertical-align: top;\n",
       "    }\n",
       "\n",
       "    .dataframe thead th {\n",
       "        text-align: right;\n",
       "    }\n",
       "</style>\n",
       "<table border=\"1\" class=\"dataframe\">\n",
       "  <thead>\n",
       "    <tr style=\"text-align: right;\">\n",
       "      <th></th>\n",
       "      <th>SeniorCitizen</th>\n",
       "      <th>tenure</th>\n",
       "      <th>MonthlyCharges</th>\n",
       "    </tr>\n",
       "  </thead>\n",
       "  <tbody>\n",
       "    <tr>\n",
       "      <th>count</th>\n",
       "      <td>7043.000000</td>\n",
       "      <td>7043.000000</td>\n",
       "      <td>7043.000000</td>\n",
       "    </tr>\n",
       "    <tr>\n",
       "      <th>mean</th>\n",
       "      <td>0.162147</td>\n",
       "      <td>32.371149</td>\n",
       "      <td>64.761692</td>\n",
       "    </tr>\n",
       "    <tr>\n",
       "      <th>std</th>\n",
       "      <td>0.368612</td>\n",
       "      <td>24.559481</td>\n",
       "      <td>30.090047</td>\n",
       "    </tr>\n",
       "    <tr>\n",
       "      <th>min</th>\n",
       "      <td>0.000000</td>\n",
       "      <td>0.000000</td>\n",
       "      <td>18.250000</td>\n",
       "    </tr>\n",
       "    <tr>\n",
       "      <th>25%</th>\n",
       "      <td>0.000000</td>\n",
       "      <td>9.000000</td>\n",
       "      <td>35.500000</td>\n",
       "    </tr>\n",
       "    <tr>\n",
       "      <th>50%</th>\n",
       "      <td>0.000000</td>\n",
       "      <td>29.000000</td>\n",
       "      <td>70.350000</td>\n",
       "    </tr>\n",
       "    <tr>\n",
       "      <th>75%</th>\n",
       "      <td>0.000000</td>\n",
       "      <td>55.000000</td>\n",
       "      <td>89.850000</td>\n",
       "    </tr>\n",
       "    <tr>\n",
       "      <th>max</th>\n",
       "      <td>1.000000</td>\n",
       "      <td>72.000000</td>\n",
       "      <td>118.750000</td>\n",
       "    </tr>\n",
       "  </tbody>\n",
       "</table>\n",
       "</div>"
      ],
      "text/plain": [
       "       SeniorCitizen       tenure  MonthlyCharges\n",
       "count    7043.000000  7043.000000     7043.000000\n",
       "mean        0.162147    32.371149       64.761692\n",
       "std         0.368612    24.559481       30.090047\n",
       "min         0.000000     0.000000       18.250000\n",
       "25%         0.000000     9.000000       35.500000\n",
       "50%         0.000000    29.000000       70.350000\n",
       "75%         0.000000    55.000000       89.850000\n",
       "max         1.000000    72.000000      118.750000"
      ]
     },
     "execution_count": 22,
     "metadata": {},
     "output_type": "execute_result"
    }
   ],
   "source": [
    "df.describe()"
   ]
  },
  {
   "cell_type": "markdown",
   "id": "be97867e",
   "metadata": {},
   "source": [
    "### 3.  Handle missing values in the dataset, deciding on an appropriate strategy."
   ]
  },
  {
   "cell_type": "code",
   "execution_count": 23,
   "id": "391bc560",
   "metadata": {},
   "outputs": [],
   "source": [
    "# Convert \"TotalCharges\" to numeric, handling any conversion errors.\n",
    "df['TotalCharges'] = pd.to_numeric(df['TotalCharges'], errors='coerce')\n",
    "\n",
    "# Drop rows with missing values in \"TotalCharges.\"\n",
    "df.dropna(subset=['TotalCharges'], inplace=True)\n"
   ]
  },
  {
   "cell_type": "markdown",
   "id": "2a48c20a",
   "metadata": {},
   "source": [
    "### 4. Remove any duplicate records from the dataset. "
   ]
  },
  {
   "cell_type": "code",
   "execution_count": 24,
   "id": "474c84f2",
   "metadata": {},
   "outputs": [],
   "source": [
    "# Remove duplicates\n",
    "df.drop_duplicates(inplace=True)\n"
   ]
  },
  {
   "cell_type": "markdown",
   "id": "170e4f84",
   "metadata": {},
   "source": [
    "### 5. Check for inconsistent data, such as inconsistent formatting or spelling variations,and standardize it."
   ]
  },
  {
   "cell_type": "code",
   "execution_count": 25,
   "id": "5c96d00f",
   "metadata": {
    "scrolled": true
   },
   "outputs": [
    {
     "name": "stdout",
     "output_type": "stream",
     "text": [
      "Unique values in customerID:\n",
      "['7590-VHVEG' '5575-GNVDE' '3668-QPYBK' ... '4801-JZAZL' '8361-LTMKD'\n",
      " '3186-AJIEK']\n",
      "\n",
      "\n",
      "Unique values in gender:\n",
      "['Female' 'Male']\n",
      "\n",
      "\n",
      "Unique values in SeniorCitizen:\n",
      "[0 1]\n",
      "\n",
      "\n",
      "Unique values in Partner:\n",
      "['Yes' 'No']\n",
      "\n",
      "\n",
      "Unique values in Dependents:\n",
      "['No' 'Yes']\n",
      "\n",
      "\n",
      "Unique values in tenure:\n",
      "[ 1 34  2 45  8 22 10 28 62 13 16 58 49 25 69 52 71 21 12 30 47 72 17 27\n",
      "  5 46 11 70 63 43 15 60 18 66  9  3 31 50 64 56  7 42 35 48 29 65 38 68\n",
      " 32 55 37 36 41  6  4 33 67 23 57 61 14 20 53 40 59 24 44 19 54 51 26 39]\n",
      "\n",
      "\n",
      "Unique values in PhoneService:\n",
      "['No' 'Yes']\n",
      "\n",
      "\n",
      "Unique values in MultipleLines:\n",
      "['No phone service' 'No' 'Yes']\n",
      "\n",
      "\n",
      "Unique values in InternetService:\n",
      "['DSL' 'Fiber optic' 'No']\n",
      "\n",
      "\n",
      "Unique values in OnlineSecurity:\n",
      "['No' 'Yes' 'No internet service']\n",
      "\n",
      "\n",
      "Unique values in OnlineBackup:\n",
      "['Yes' 'No' 'No internet service']\n",
      "\n",
      "\n",
      "Unique values in DeviceProtection:\n",
      "['No' 'Yes' 'No internet service']\n",
      "\n",
      "\n",
      "Unique values in TechSupport:\n",
      "['No' 'Yes' 'No internet service']\n",
      "\n",
      "\n",
      "Unique values in StreamingTV:\n",
      "['No' 'Yes' 'No internet service']\n",
      "\n",
      "\n",
      "Unique values in StreamingMovies:\n",
      "['No' 'Yes' 'No internet service']\n",
      "\n",
      "\n",
      "Unique values in Contract:\n",
      "['Month-to-month' 'One year' 'Two year']\n",
      "\n",
      "\n",
      "Unique values in PaperlessBilling:\n",
      "['Yes' 'No']\n",
      "\n",
      "\n",
      "Unique values in PaymentMethod:\n",
      "['Electronic check' 'Mailed check' 'Bank transfer (automatic)'\n",
      " 'Credit card (automatic)']\n",
      "\n",
      "\n",
      "Unique values in MonthlyCharges:\n",
      "[29.85 56.95 53.85 ... 63.1  44.2  78.7 ]\n",
      "\n",
      "\n",
      "Unique values in TotalCharges:\n",
      "[  29.85 1889.5   108.15 ...  346.45  306.6  6844.5 ]\n",
      "\n",
      "\n",
      "Unique values in Churn:\n",
      "['No' 'Yes']\n",
      "\n",
      "\n"
     ]
    }
   ],
   "source": [
    "# Check for inconsistent data by looking at unique values in each column\n",
    "for column in df.columns:\n",
    "    print(f\"Unique values in {column}:\")\n",
    "    print(df[column].unique())\n",
    "    print(\"\\n\")"
   ]
  },
  {
   "cell_type": "code",
   "execution_count": 26,
   "id": "bd409c21",
   "metadata": {},
   "outputs": [],
   "source": [
    "# Example: Standardize 'Yes'/'No' to lowercase\n",
    "df = df.apply(lambda col: col.map(lambda s: s.lower() if type(s) == str else s))\n"
   ]
  },
  {
   "cell_type": "code",
   "execution_count": 27,
   "id": "d47eb6da",
   "metadata": {},
   "outputs": [],
   "source": [
    "# Example: Standardize columns with similar values (e.g., 'Male'/'Female' to 'male'/'female')\n",
    "if 'gender' in df.columns:\n",
    "    df['gender'] = df['gender'].str.lower()"
   ]
  },
  {
   "cell_type": "code",
   "execution_count": 28,
   "id": "68a531dd",
   "metadata": {},
   "outputs": [
    {
     "name": "stdout",
     "output_type": "stream",
     "text": [
      "   customerID  gender  SeniorCitizen Partner Dependents  tenure PhoneService  \\\n",
      "0  7590-vhveg  female              0     yes         no       1           no   \n",
      "1  5575-gnvde    male              0      no         no      34          yes   \n",
      "2  3668-qpybk    male              0      no         no       2          yes   \n",
      "3  7795-cfocw    male              0      no         no      45           no   \n",
      "4  9237-hqitu  female              0      no         no       2          yes   \n",
      "\n",
      "      MultipleLines InternetService OnlineSecurity  ... DeviceProtection  \\\n",
      "0  no phone service             dsl             no  ...               no   \n",
      "1                no             dsl            yes  ...              yes   \n",
      "2                no             dsl            yes  ...               no   \n",
      "3  no phone service             dsl            yes  ...              yes   \n",
      "4                no     fiber optic             no  ...               no   \n",
      "\n",
      "  TechSupport StreamingTV StreamingMovies        Contract PaperlessBilling  \\\n",
      "0          no          no              no  month-to-month              yes   \n",
      "1          no          no              no        one year               no   \n",
      "2          no          no              no  month-to-month              yes   \n",
      "3         yes          no              no        one year               no   \n",
      "4          no          no              no  month-to-month              yes   \n",
      "\n",
      "               PaymentMethod MonthlyCharges  TotalCharges  Churn  \n",
      "0           electronic check          29.85         29.85     no  \n",
      "1               mailed check          56.95       1889.50     no  \n",
      "2               mailed check          53.85        108.15    yes  \n",
      "3  bank transfer (automatic)          42.30       1840.75     no  \n",
      "4           electronic check          70.70        151.65    yes  \n",
      "\n",
      "[5 rows x 21 columns]\n"
     ]
    }
   ],
   "source": [
    "# Display the first few rows after standardization\n",
    "print(df.head())\n"
   ]
  },
  {
   "cell_type": "code",
   "execution_count": 29,
   "id": "2c64bbcc",
   "metadata": {},
   "outputs": [],
   "source": [
    "# Save the cleaned data\n",
    "df.to_csv('Telco-Customer-Churn-cleaned.csv', index=False)\n"
   ]
  },
  {
   "cell_type": "markdown",
   "id": "90fe23b8",
   "metadata": {},
   "source": [
    "### 6.  Convert columns to the correct data types as needed. "
   ]
  },
  {
   "cell_type": "code",
   "execution_count": 30,
   "id": "7dd36eb0",
   "metadata": {},
   "outputs": [],
   "source": [
    "# Convert columns to appropriate data types\n",
    "df['TotalCharges'] = pd.to_numeric(df['TotalCharges'], errors='coerce')  # Convert to numeric\n",
    "df['Churn'] = df['Churn'].astype('category')  # Convert to category\n",
    "df['tenure'] = df['tenure'].astype('int')  # Ensure tenure is integer\n"
   ]
  },
  {
   "cell_type": "code",
   "execution_count": 31,
   "id": "3d6c29d7",
   "metadata": {},
   "outputs": [
    {
     "data": {
      "text/plain": [
       "customerID            object\n",
       "gender                object\n",
       "SeniorCitizen          int64\n",
       "Partner               object\n",
       "Dependents            object\n",
       "tenure                 int32\n",
       "PhoneService          object\n",
       "MultipleLines         object\n",
       "InternetService       object\n",
       "OnlineSecurity        object\n",
       "OnlineBackup          object\n",
       "DeviceProtection      object\n",
       "TechSupport           object\n",
       "StreamingTV           object\n",
       "StreamingMovies       object\n",
       "Contract              object\n",
       "PaperlessBilling      object\n",
       "PaymentMethod         object\n",
       "MonthlyCharges       float64\n",
       "TotalCharges         float64\n",
       "Churn               category\n",
       "dtype: object"
      ]
     },
     "execution_count": 31,
     "metadata": {},
     "output_type": "execute_result"
    }
   ],
   "source": [
    "df.dtypes"
   ]
  },
  {
   "cell_type": "markdown",
   "id": "db485504",
   "metadata": {},
   "source": [
    "### 7. Identify and handle outliers in the data."
   ]
  },
  {
   "cell_type": "code",
   "execution_count": 34,
   "id": "3f6bddba",
   "metadata": {},
   "outputs": [
    {
     "data": {
      "image/png": "[encoded data removed]",
      "text/plain": [
       "<Figure size 640x480 with 1 Axes>"
      ]
     },
     "metadata": {},
     "output_type": "display_data"
    }
   ],
   "source": [
    "import seaborn as sns\n",
    "# Box Plot\n",
    "sns.boxplot(data=df)\n",
    "plt.title(\"Box Plot\")\n",
    "plt.show()"
   ]
  },
  {
   "cell_type": "markdown",
   "id": "9078a6d7",
   "metadata": {},
   "source": [
    "### 8. Perform feature engineering, creating new features that may be relevant to predicting customer churn. "
   ]
  },
  {
   "cell_type": "code",
   "execution_count": 49,
   "id": "29cf3a29",
   "metadata": {},
   "outputs": [],
   "source": [
    "# Create age group feature (replace thresholds as needed)\n",
    "df['age_group'] = np.where(df['SeniorCitizen'] == 1, 'Senior', np.where(df['tenure'] > 60, 'Middle-aged', 'Young'))\n",
    "\n",
    "# Feature creation based on numerical features\n",
    "# Tenure groups (replace thresholds as needed)\n",
    "df['tenure_group'] = np.where(df['tenure'] <= 12, 'New Customer', 'Loyal Customer')\n",
    "\n",
    "# Average monthly spend\n",
    "df['avg_monthly_spend'] = df['MonthlyCharges'] / df['tenure']\n",
    "\n"
   ]
  },
  {
   "cell_type": "markdown",
   "id": "eb6c3926",
   "metadata": {},
   "source": [
    "### 9.  Normalize or scale the data if necessary."
   ]
  },
  {
   "cell_type": "code",
   "execution_count": 52,
   "id": "a32523dc",
   "metadata": {},
   "outputs": [],
   "source": [
    "# Feature scaling or normalization (optional, consider data distribution)\n",
    "from sklearn.preprocessing import StandardScaler\n",
    "\n",
    "scaler = StandardScaler()\n",
    "numerical_features = ['tenure', 'MonthlyCharges', 'TotalCharges', 'avg_monthly_spend'] # Adjust as needed\n",
    "df[numerical_features] = scaler.fit_transform(df[numerical_features])\n",
    "\n"
   ]
  },
  {
   "cell_type": "markdown",
   "id": "cf2bd95b",
   "metadata": {},
   "source": [
    "### 10. Split the dataset into training and testing sets for further analysis. "
   ]
  },
  {
   "cell_type": "code",
   "execution_count": 53,
   "id": "9dacb3be",
   "metadata": {},
   "outputs": [
    {
     "name": "stdout",
     "output_type": "stream",
     "text": [
      "Training data shapes:\n",
      "(5625, 23) (5625,)\n",
      "Testing data shapes:\n",
      "(1407, 23) (1407,)\n"
     ]
    }
   ],
   "source": [
    "from sklearn.model_selection import train_test_split\n",
    "\n",
    "# Assuming your data is in a DataFrame named 'df' and your target variable is 'Churn' (replace if different)\n",
    "X = df.drop('Churn', axis=1)  # Features (all columns except 'Churn')\n",
    "y = df['Churn']  # Target variable\n",
    "\n",
    "# Split data into training and testing sets (common split is 80/20)\n",
    "X_train, X_test, y_train, y_test = train_test_split(X, y, test_size=0.2, random_state=42)\n",
    "\n",
    "print(\"Training data shapes:\")\n",
    "print(X_train.shape, y_train.shape)\n",
    "\n",
    "print(\"Testing data shapes:\")\n",
    "print(X_test.shape, y_test.shape)\n"
   ]
  },
  {
   "cell_type": "code",
   "execution_count": 54,
   "id": "99598c8e",
   "metadata": {},
   "outputs": [
    {
     "name": "stdout",
     "output_type": "stream",
     "text": [
      "Cleaned data exported to cleaned_data.csv\n"
     ]
    }
   ],
   "source": [
    "#cleaned data is in a DataFrame named 'df'\n",
    "df.to_csv('cleaned_data.csv', index=False)  # Export without index\n",
    "print(\"Cleaned data exported to cleaned_data.csv\")"
   ]
  }
 ],
 "metadata": {
  "kernelspec": {
   "display_name": "Python 3 (ipykernel)",
   "language": "python",
   "name": "python3"
  },
  "language_info": {
   "codemirror_mode": {
    "name": "ipython",
    "version": 3
   },
   "file_extension": ".py",
   "mimetype": "text/x-python",
   "name": "python",
   "nbconvert_exporter": "python",
   "pygments_lexer": "ipython3",
   "version": "3.11.5"
  }
 },
 "nbformat": 4,
 "nbformat_minor": 5
}

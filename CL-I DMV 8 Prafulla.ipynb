{
 "cells": [
  {
   "cell_type": "code",
   "execution_count": 2,
   "id": "34787bd1",
   "metadata": {},
   "outputs": [],
   "source": [
    "# Name: Nalawade Prafulla Chandrashekhar.\n",
    "# B.E.A.I.& D.S.\n",
    "# Roll No.: 42"
   ]
  },
  {
   "cell_type": "markdown",
   "id": "4daab998",
   "metadata": {},
   "source": [
    "## Interacting with Web APIs "
   ]
  },
  {
   "cell_type": "code",
   "execution_count": 16,
   "id": "1bc2ddd0",
   "metadata": {},
   "outputs": [],
   "source": [
    "# Problem Statement: Analyzing Weather Data from OpenWeatherMap API \n",
    "# Dataset: Weather data retrieved from OpenWeatherMap API \n",
    "# Description: The goal is to interact with the OpenWeatherMap API to retrieve weather data \n",
    "# for a specific location and perform data modeling and visualization to analyze weather \n",
    "# patterns over time. \n",
    "# Tasks to Perform: "
   ]
  },
  {
   "cell_type": "markdown",
   "id": "6aede7f4",
   "metadata": {},
   "source": [
    "### 1. Register and obtain API key from OpenWeatherMap.\n",
    "### 2. Interact with the OpenWeatherMap API using the API key to retrieve weather data for a specific location. "
   ]
  },
  {
   "cell_type": "code",
   "execution_count": 17,
   "id": "9b665214",
   "metadata": {},
   "outputs": [
    {
     "name": "stdout",
     "output_type": "stream",
     "text": [
      "{'coord': {'lon': 73.8553, 'lat': 18.5196}, 'weather': [{'id': 804, 'main': 'Clouds', 'description': 'overcast clouds', 'icon': '04n'}], 'base': 'stations', 'main': {'temp': 296.67, 'feels_like': 297.38, 'temp_min': 296.67, 'temp_max': 296.67, 'pressure': 1003, 'humidity': 88, 'sea_level': 1003, 'grnd_level': 941}, 'visibility': 10000, 'wind': {'speed': 4.79, 'deg': 263, 'gust': 11.81}, 'clouds': {'all': 100}, 'dt': 1721143473, 'sys': {'country': 'IN', 'sunrise': 1721090195, 'sunset': 1721137458}, 'timezone': 19800, 'id': 1259229, 'name': 'Pune', 'cod': 200}\n"
     ]
    }
   ],
   "source": [
    "import requests\n",
    "\n",
    "api_key = '18896d417b61718248835471bedf9b54'\n",
    "location = 'Pune' \n",
    "url = f'http://api.openweathermap.org/data/2.5/weather?q={location}&appid={api_key}'\n",
    "\n",
    "response = requests.get(url)\n",
    "weather_data = response.json()\n",
    "\n",
    "# Display the retrieved weather data\n",
    "print(weather_data)\n"
   ]
  },
  {
   "cell_type": "code",
   "execution_count": 18,
   "id": "dca48ba9",
   "metadata": {},
   "outputs": [],
   "source": [
    "# Extract relevant weather attributes\n",
    "temperature = weather_data['main']['temp'] - 273.15  # Convert from Kelvin to Celsius\n",
    "humidity = weather_data['main']['humidity']\n",
    "wind_speed = weather_data['wind']['speed']\n",
    "weather_description = weather_data['weather'][0]['description']\n"
   ]
  },
  {
   "cell_type": "markdown",
   "id": "e50c53f9",
   "metadata": {},
   "source": [
    "### 3. Extract relevant weather attributes such as temperature, humidity, wind speed, and precipitation from the API response. "
   ]
  },
  {
   "cell_type": "code",
   "execution_count": 19,
   "id": "0821ebd0",
   "metadata": {},
   "outputs": [
    {
     "name": "stdout",
     "output_type": "stream",
     "text": [
      "Temperature: 23.52000000000004°C\n",
      "Humidity: 88%\n",
      "Wind Speed: 4.79 m/s\n",
      "Weather Description: overcast clouds\n"
     ]
    }
   ],
   "source": [
    "print(f\"Temperature: {temperature}°C\")\n",
    "print(f\"Humidity: {humidity}%\")\n",
    "print(f\"Wind Speed: {wind_speed} m/s\")\n",
    "print(f\"Weather Description: {weather_description}\")"
   ]
  },
  {
   "cell_type": "code",
   "execution_count": 20,
   "id": "bc5b41d4",
   "metadata": {
    "scrolled": true
   },
   "outputs": [
    {
     "name": "stdout",
     "output_type": "stream",
     "text": [
      "Temperature: 23.52000000000004°C\n",
      "Humidity: 88%\n",
      "Wind Speed: 4.79 m/s\n",
      "Weather Description: overcast clouds\n"
     ]
    },
    {
     "data": {
      "text/html": [
       "<div>\n",
       "<style scoped>\n",
       "    .dataframe tbody tr th:only-of-type {\n",
       "        vertical-align: middle;\n",
       "    }\n",
       "\n",
       "    .dataframe tbody tr th {\n",
       "        vertical-align: top;\n",
       "    }\n",
       "\n",
       "    .dataframe thead th {\n",
       "        text-align: right;\n",
       "    }\n",
       "</style>\n",
       "<table border=\"1\" class=\"dataframe\">\n",
       "  <thead>\n",
       "    <tr style=\"text-align: right;\">\n",
       "      <th></th>\n",
       "      <th>datetime</th>\n",
       "      <th>temperature</th>\n",
       "      <th>humidity</th>\n",
       "      <th>wind_speed</th>\n",
       "      <th>weather_description</th>\n",
       "    </tr>\n",
       "  </thead>\n",
       "  <tbody>\n",
       "    <tr>\n",
       "      <th>0</th>\n",
       "      <td>2024-07-16 20:57:43.989617</td>\n",
       "      <td>23.52</td>\n",
       "      <td>88</td>\n",
       "      <td>4.79</td>\n",
       "      <td>overcast clouds</td>\n",
       "    </tr>\n",
       "  </tbody>\n",
       "</table>\n",
       "</div>"
      ],
      "text/plain": [
       "                    datetime  temperature  humidity  wind_speed  \\\n",
       "0 2024-07-16 20:57:43.989617        23.52        88        4.79   \n",
       "\n",
       "  weather_description  \n",
       "0     overcast clouds  "
      ]
     },
     "execution_count": 20,
     "metadata": {},
     "output_type": "execute_result"
    }
   ],
   "source": [
    "import pandas as pd\n",
    "from datetime import datetime\n",
    "\n",
    "# Example data collection over time\n",
    "data = {\n",
    "    'datetime': [datetime.now()],\n",
    "    'temperature': [temperature],\n",
    "    'humidity': [humidity],\n",
    "    'wind_speed': [wind_speed],\n",
    "    'weather_description': [weather_description]\n",
    "}\n",
    "\n",
    "df = pd.DataFrame(data)\n",
    "print(f\"Temperature: {temperature}°C\")\n",
    "print(f\"Humidity: {humidity}%\")\n",
    "print(f\"Wind Speed: {wind_speed} m/s\")\n",
    "print(f\"Weather Description: {weather_description}\")\n",
    "df.head()"
   ]
  },
  {
   "cell_type": "code",
   "execution_count": 21,
   "id": "549c25c7",
   "metadata": {},
   "outputs": [
    {
     "name": "stdout",
     "output_type": "stream",
     "text": [
      "Average Temperature: 23.52000000000004°C\n",
      "Average Humidity: 88.0%\n"
     ]
    }
   ],
   "source": [
    "# For example, calculating average values\n",
    "average_temperature = df['temperature'].mean()\n",
    "average_humidity = df['humidity'].mean()\n",
    "\n",
    "print(f\"Average Temperature: {average_temperature}°C\")\n",
    "print(f\"Average Humidity: {average_humidity}%\")"
   ]
  },
  {
   "cell_type": "markdown",
   "id": "32b5245b",
   "metadata": {},
   "source": [
    "### 4. Clean and preprocess the retrieved data, handling missing values or inconsistent formats."
   ]
  },
  {
   "cell_type": "code",
   "execution_count": 22,
   "id": "287bef1f",
   "metadata": {
    "scrolled": true
   },
   "outputs": [
    {
     "data": {
      "text/plain": [
       "datetime               0\n",
       "temperature            0\n",
       "humidity               0\n",
       "wind_speed             0\n",
       "weather_description    0\n",
       "dtype: int64"
      ]
     },
     "execution_count": 22,
     "metadata": {},
     "output_type": "execute_result"
    }
   ],
   "source": [
    "df.isnull().sum()"
   ]
  },
  {
   "cell_type": "code",
   "execution_count": 23,
   "id": "9bddce0c",
   "metadata": {},
   "outputs": [
    {
     "data": {
      "text/plain": [
       "datetime               datetime64[ns]\n",
       "temperature                   float64\n",
       "humidity                        int64\n",
       "wind_speed                    float64\n",
       "weather_description            object\n",
       "dtype: object"
      ]
     },
     "execution_count": 23,
     "metadata": {},
     "output_type": "execute_result"
    }
   ],
   "source": [
    "df.dtypes"
   ]
  },
  {
   "cell_type": "code",
   "execution_count": 24,
   "id": "61782339",
   "metadata": {},
   "outputs": [],
   "source": [
    "from sklearn.preprocessing import LabelEncoder\n",
    "\n",
    "encoder = LabelEncoder()\n",
    "df[\"weather_description\"] = encoder.fit_transform(df[\"weather_description\"])\n",
    "df[\"datetime\"] = encoder.fit_transform(df[\"datetime\"])"
   ]
  },
  {
   "cell_type": "markdown",
   "id": "18eff878",
   "metadata": {},
   "source": [
    "### 5. Perform data modeling to analyze weather patterns, such as calculating average temperature, maximum/minimum values, or trends over time. "
   ]
  },
  {
   "cell_type": "code",
   "execution_count": 25,
   "id": "1dbf1fe1",
   "metadata": {},
   "outputs": [
    {
     "name": "stdout",
     "output_type": "stream",
     "text": [
      "Average Temperature: 23.52\n"
     ]
    }
   ],
   "source": [
    "average_temp = df[\"temperature\"].mean()  # Replace \"Temperature\" with your actual column name\n",
    "print(f\"Average Temperature: {average_temp:.2f}\")  # Format to two decimal places\n"
   ]
  },
  {
   "cell_type": "code",
   "execution_count": 26,
   "id": "f0e422f1",
   "metadata": {},
   "outputs": [
    {
     "name": "stdout",
     "output_type": "stream",
     "text": [
      "Maximum Temperature: 23.52\n",
      "Minimum Temperature: 23.52\n"
     ]
    }
   ],
   "source": [
    "max_temp = df[\"temperature\"].max()\n",
    "min_temp = df[\"temperature\"].min()\n",
    "\n",
    "print(f\"Maximum Temperature: {max_temp:.2f}\")\n",
    "print(f\"Minimum Temperature: {min_temp:.2f}\")\n"
   ]
  },
  {
   "cell_type": "code",
   "execution_count": 27,
   "id": "3c3c8522",
   "metadata": {},
   "outputs": [
    {
     "name": "stdout",
     "output_type": "stream",
     "text": [
      "datetime\n",
      "1970-01-01    23.52\n",
      "Freq: D, Name: temperature, dtype: float64\n"
     ]
    }
   ],
   "source": [
    "df[\"datetime\"] = pd.to_datetime(df[\"datetime\"])  # Assuming you have a \"date\" column\n",
    "\n",
    "# Daily average temperature\n",
    "daily_average_temp = df.resample(\"D\", on=\"datetime\")[\"temperature\"].mean()  # Resample by day\n",
    "print(daily_average_temp.head())  # Print first few days\n",
    "\n",
    "# You can similarly calculate weekly, monthly, or yearly averages by changing \"D\" to \"W\", \"M\", or \"Y\" in resample\n"
   ]
  },
  {
   "cell_type": "code",
   "execution_count": 35,
   "id": "1931c979",
   "metadata": {
    "scrolled": false
   },
   "outputs": [
    {
     "name": "stderr",
     "output_type": "stream",
     "text": [
      "C:\\Users\\PRAFULL\\AppData\\Roaming\\Python\\Python311\\site-packages\\pandas\\plotting\\_matplotlib\\core.py:1561: UserWarning: Attempting to set identical low and high xlims makes transformation singular; automatically expanding.\n",
      "  ax.set_xlim(left, right)\n"
     ]
    },
    {
     "data": {
      "image/png": "[encoded data removed]",
      "text/plain": [
       "<Figure size 1000x500 with 1 Axes>"
      ]
     },
     "metadata": {},
     "output_type": "display_data"
    }
   ],
   "source": [
    "#trends over time\n",
    "# Line chart for temperature over time\n",
    "import matplotlib.pyplot as plt\n",
    "plt.figure(figsize=(10, 5))\n",
    "daily_average_temp.plot( marker='o',linestyle='-')\n",
    "plt.title('Temperature Over Time')\n",
    "plt.xlabel('Time')\n",
    "plt.ylabel('Temperature (°C)')\n",
    "plt.grid(True)\n",
    "plt.show()\n"
   ]
  },
  {
   "cell_type": "markdown",
   "id": "1349fb6a",
   "metadata": {},
   "source": [
    "### 6. Visualize the weather data using appropriate plots, such as line charts, bar plots, or scatter plots, to represent\n",
    "### temperature changes, precipitation levels, or wind speed variations. "
   ]
  },
  {
   "cell_type": "code",
   "execution_count": 29,
   "id": "1496b8f6",
   "metadata": {},
   "outputs": [
    {
     "data": {
      "text/plain": [
       "Index(['datetime', 'temperature', 'humidity', 'wind_speed',\n",
       "       'weather_description'],\n",
       "      dtype='object')"
      ]
     },
     "execution_count": 29,
     "metadata": {},
     "output_type": "execute_result"
    }
   ],
   "source": [
    "df.columns\n"
   ]
  },
  {
   "cell_type": "code",
   "execution_count": 36,
   "id": "d0bc2d27",
   "metadata": {},
   "outputs": [
    {
     "data": {
      "text/plain": [
       "(array([-731., -549., -365., -184.,    0.,  181.,  365.,  546.,  730.]),\n",
       " [Text(-731.0, 0, '1968-01'),\n",
       "  Text(-549.0, 0, '1968-07'),\n",
       "  Text(-365.0, 0, '1969-01'),\n",
       "  Text(-184.0, 0, '1969-07'),\n",
       "  Text(0.0, 0, '1970-01'),\n",
       "  Text(181.0, 0, '1970-07'),\n",
       "  Text(365.0, 0, '1971-01'),\n",
       "  Text(546.0, 0, '1971-07'),\n",
       "  Text(730.0, 0, '1972-01')])"
      ]
     },
     "execution_count": 36,
     "metadata": {},
     "output_type": "execute_result"
    },
    {
     "data": {
      "image/png": "[encoded data removed]",
      "text/plain": [
       "<Figure size 640x480 with 1 Axes>"
      ]
     },
     "metadata": {},
     "output_type": "display_data"
    }
   ],
   "source": [
    "# Temperature Plot\n",
    "plt.subplot(2, 1, 1)\n",
    "plt.plot(df['datetime'], df['temperature'], marker='o', color='tab:blue')\n",
    "plt.title('Temperature Over Time')\n",
    "plt.xlabel('datetime')\n",
    "plt.ylabel('temperature')\n",
    "plt.xticks(rotation=45)\n",
    "\n"
   ]
  },
  {
   "cell_type": "code",
   "execution_count": 37,
   "id": "1e36860b",
   "metadata": {},
   "outputs": [
    {
     "data": {
      "image/png": "[encoded data removed]",
      "text/plain": [
       "<Figure size 640x480 with 1 Axes>"
      ]
     },
     "metadata": {},
     "output_type": "display_data"
    }
   ],
   "source": [
    "# Wind Speed Scatter Plot\n",
    "plt.subplot(2, 1, 2)\n",
    "plt.scatter(df['datetime'], df['wind_speed'], color='tab:green')\n",
    "plt.title('Wind Speed Over Time')\n",
    "plt.xlabel('datetime')\n",
    "plt.ylabel('wind_speed')\n",
    "plt.xticks(rotation=45)\n",
    "\n",
    "plt.tight_layout()\n",
    "plt.show()"
   ]
  },
  {
   "cell_type": "markdown",
   "id": "d40e69ee",
   "metadata": {},
   "source": [
    "### 7. Apply data aggregation techniques to summarize weather statistics by specific time \n",
    "### periods (e.g., daily, monthly, seasonal). "
   ]
  },
  {
   "cell_type": "code",
   "execution_count": 38,
   "id": "5725bc81",
   "metadata": {},
   "outputs": [
    {
     "name": "stdout",
     "output_type": "stream",
     "text": [
      "Daily Summary:\n",
      "            temperature               wind_speed            \n",
      "                  mean    max    min       mean   max   min\n",
      "datetime                                                   \n",
      "1970-01-01       23.52  23.52  23.52       4.79  4.79  4.79\n",
      "\n",
      "Monthly Summary:\n",
      "            temperature               wind_speed            \n",
      "                  mean    max    min       mean   max   min\n",
      "datetime                                                   \n",
      "1970-01-31       23.52  23.52  23.52       4.79  4.79  4.79\n"
     ]
    },
    {
     "name": "stderr",
     "output_type": "stream",
     "text": [
      "C:\\Users\\PRAFULL\\AppData\\Local\\Temp\\ipykernel_7572\\3073623236.py:13: FutureWarning: 'M' is deprecated and will be removed in a future version, please use 'ME' instead.\n",
      "  monthly_summary = df.resample('M').agg({\n"
     ]
    }
   ],
   "source": [
    "# Convert 'Date' to datetime format\n",
    "df['datetime'] = pd.to_datetime(df['datetime'])\n",
    "\n",
    "# Set 'Date' as the index\n",
    "df.set_index('datetime', inplace=True)\n",
    "\n",
    "# Resample and aggregate data\n",
    "daily_summary = df.resample('D').agg({\n",
    "    'temperature': ['mean', 'max', 'min'],\n",
    "    'wind_speed': ['mean', 'max', 'min']\n",
    "})\n",
    "\n",
    "monthly_summary = df.resample('M').agg({\n",
    "    'temperature': ['mean', 'max', 'min'],\n",
    "    'wind_speed': ['mean', 'max', 'min']\n",
    "})\n",
    "\n",
    "# Print the summary statistics\n",
    "print(\"Daily Summary:\\n\", daily_summary)\n",
    "print(\"\\nMonthly Summary:\\n\", monthly_summary)\n",
    "\n",
    "\n",
    "\n"
   ]
  },
  {
   "cell_type": "code",
   "execution_count": 39,
   "id": "4efb9f3a",
   "metadata": {},
   "outputs": [
    {
     "data": {
      "text/plain": [
       "(array([-731., -549., -365., -184.,    0.,  181.,  365.,  546.,  730.]),\n",
       " [Text(-731.0, 0, '1968-01'),\n",
       "  Text(-549.0, 0, '1968-07'),\n",
       "  Text(-365.0, 0, '1969-01'),\n",
       "  Text(-184.0, 0, '1969-07'),\n",
       "  Text(0.0, 0, '1970-01'),\n",
       "  Text(181.0, 0, '1970-07'),\n",
       "  Text(365.0, 0, '1971-01'),\n",
       "  Text(546.0, 0, '1971-07'),\n",
       "  Text(730.0, 0, '1972-01')])"
      ]
     },
     "execution_count": 39,
     "metadata": {},
     "output_type": "execute_result"
    },
    {
     "data": {
      "image/png": "[encoded data removed]",
      "text/plain": [
       "<Figure size 1400x1000 with 1 Axes>"
      ]
     },
     "metadata": {},
     "output_type": "display_data"
    }
   ],
   "source": [
    "# Plot the aggregated data\n",
    "plt.figure(figsize=(14, 10))\n",
    "\n",
    "# Daily Temperature Summary\n",
    "plt.subplot(2, 1, 1)\n",
    "plt.plot(daily_summary.index, daily_summary[('temperature', 'mean')], marker='o', color='tab:blue', label='Mean Temperature')\n",
    "plt.fill_between(daily_summary.index, daily_summary[('temperature', 'min')], daily_summary[('temperature', 'max')], color='tab:blue', alpha=0.2)\n",
    "plt.title('Daily Temperature Summary')\n",
    "plt.xlabel('date')\n",
    "plt.ylabel('temperature')\n",
    "plt.legend()\n",
    "plt.xticks(rotation=45)"
   ]
  },
  {
   "cell_type": "code",
   "execution_count": 40,
   "id": "38fc8496",
   "metadata": {},
   "outputs": [
    {
     "data": {
      "image/png": "[encoded data removed]",
      "text/plain": [
       "<Figure size 640x480 with 1 Axes>"
      ]
     },
     "metadata": {},
     "output_type": "display_data"
    }
   ],
   "source": [
    "# Monthly Temperature Summary\n",
    "plt.subplot(2, 1, 2)\n",
    "plt.plot(monthly_summary.index, monthly_summary[('temperature', 'mean')], marker='o', color='tab:green', label='Mean Temperature')\n",
    "plt.fill_between(monthly_summary.index, monthly_summary[('temperature', 'min')], monthly_summary[('temperature', 'max')], color='tab:green', alpha=0.2)\n",
    "plt.title('Monthly Temperature Summary')\n",
    "plt.xlabel('datetime')\n",
    "plt.ylabel('temperature')\n",
    "plt.legend()\n",
    "plt.xticks(rotation=45)\n",
    "\n",
    "plt.tight_layout()\n",
    "plt.show()"
   ]
  },
  {
   "cell_type": "markdown",
   "id": "661031f1",
   "metadata": {},
   "source": [
    "### 8. Incorporate geographical information, if available, to create maps or geospatial \n",
    "### visualizations representing weather patterns across different locations. "
   ]
  },
  {
   "cell_type": "code",
   "execution_count": 41,
   "id": "fa745317",
   "metadata": {
    "scrolled": true
   },
   "outputs": [
    {
     "name": "stdout",
     "output_type": "stream",
     "text": [
      "Weather Data:\n",
      " [{'Location': 'Pune', 'Latitude': 18.5196, 'Longitude': 73.8553, 'Temperature (C)': 23.52000000000004, 'Wind Speed (m/s)': 4.79}, {'Location': 'Mumbai', 'Latitude': 19.0144, 'Longitude': 72.8479, 'Temperature (C)': 26.99000000000001, 'Wind Speed (m/s)': 2.57}, {'Location': 'Delhi', 'Latitude': 28.6667, 'Longitude': 77.2167, 'Temperature (C)': 34.05000000000001, 'Wind Speed (m/s)': 2.06}, {'Location': 'Chennai', 'Latitude': 13.0878, 'Longitude': 80.2785, 'Temperature (C)': 28.840000000000032, 'Wind Speed (m/s)': 2.24}, {'Location': 'Kolkata', 'Latitude': 22.5697, 'Longitude': 88.3697, 'Temperature (C)': 29.970000000000027, 'Wind Speed (m/s)': 3.09}]\n",
      "\n",
      "DataFrame:\n",
      "   Location  Latitude  Longitude  Temperature (C)  Wind Speed (m/s)\n",
      "0     Pune   18.5196    73.8553            23.52              4.79\n",
      "1   Mumbai   19.0144    72.8479            26.99              2.57\n",
      "2    Delhi   28.6667    77.2167            34.05              2.06\n",
      "3  Chennai   13.0878    80.2785            28.84              2.24\n",
      "4  Kolkata   22.5697    88.3697            29.97              3.09\n"
     ]
    },
    {
     "data": {
      "text/html": [
       "<div style=\"width:100%;\"><div style=\"position:relative;width:100%;height:0;padding-bottom:60%;\"><span style=\"color:#565656\">Make this Notebook Trusted to load map: File -> Trust Notebook</span><iframe srcdoc=\"&lt;!DOCTYPE html&gt;\n",
       "&lt;html&gt;\n",
       "&lt;head&gt;\n",
       "    \n",
       "    &lt;meta http-equiv=&quot;content-type&quot; content=&quot;text/html; charset=UTF-8&quot; /&gt;\n",
       "    \n",
       "        &lt;script&gt;\n",
       "            L_NO_TOUCH = false;\n",
       "            L_DISABLE_3D = false;\n",
       "        &lt;/script&gt;\n",
       "    \n",
       "    &lt;style&gt;html, body {width: 100%;height: 100%;margin: 0;padding: 0;}&lt;/style&gt;\n",
       "    &lt;style&gt;#map {position:absolute;top:0;bottom:0;right:0;left:0;}&lt;/style&gt;\n",
       "    &lt;script src=&quot;https://cdn.jsdelivr.net/npm/leaflet@1.9.3/dist/leaflet.js&quot;&gt;&lt;/script&gt;\n",
       "    &lt;script src=&quot;https://code.jquery.com/jquery-3.7.1.min.js&quot;&gt;&lt;/script&gt;\n",
       "    &lt;script src=&quot;https://cdn.jsdelivr.net/npm/bootstrap@5.2.2/dist/js/bootstrap.bundle.min.js&quot;&gt;&lt;/script&gt;\n",
       "    &lt;script src=&quot;https://cdnjs.cloudflare.com/ajax/libs/Leaflet.awesome-markers/2.0.2/leaflet.awesome-markers.js&quot;&gt;&lt;/script&gt;\n",
       "    &lt;link rel=&quot;stylesheet&quot; href=&quot;https://cdn.jsdelivr.net/npm/leaflet@1.9.3/dist/leaflet.css&quot;/&gt;\n",
       "    &lt;link rel=&quot;stylesheet&quot; href=&quot;https://cdn.jsdelivr.net/npm/bootstrap@5.2.2/dist/css/bootstrap.min.css&quot;/&gt;\n",
       "    &lt;link rel=&quot;stylesheet&quot; href=&quot;https://netdna.bootstrapcdn.com/bootstrap/3.0.0/css/bootstrap-glyphicons.css&quot;/&gt;\n",
       "    &lt;link rel=&quot;stylesheet&quot; href=&quot;https://cdn.jsdelivr.net/npm/@fortawesome/fontawesome-free@6.2.0/css/all.min.css&quot;/&gt;\n",
       "    &lt;link rel=&quot;stylesheet&quot; href=&quot;https://cdnjs.cloudflare.com/ajax/libs/Leaflet.awesome-markers/2.0.2/leaflet.awesome-markers.css&quot;/&gt;\n",
       "    &lt;link rel=&quot;stylesheet&quot; href=&quot;https://cdn.jsdelivr.net/gh/python-visualization/folium/folium/templates/leaflet.awesome.rotate.min.css&quot;/&gt;\n",
       "    \n",
       "            &lt;meta name=&quot;viewport&quot; content=&quot;width=device-width,\n",
       "                initial-scale=1.0, maximum-scale=1.0, user-scalable=no&quot; /&gt;\n",
       "            &lt;style&gt;\n",
       "                #map_605abdfc83f320daf36892e431a7eb31 {\n",
       "                    position: relative;\n",
       "                    width: 100.0%;\n",
       "                    height: 100.0%;\n",
       "                    left: 0.0%;\n",
       "                    top: 0.0%;\n",
       "                }\n",
       "                .leaflet-container { font-size: 1rem; }\n",
       "            &lt;/style&gt;\n",
       "        \n",
       "&lt;/head&gt;\n",
       "&lt;body&gt;\n",
       "    \n",
       "    \n",
       "            &lt;div class=&quot;folium-map&quot; id=&quot;map_605abdfc83f320daf36892e431a7eb31&quot; &gt;&lt;/div&gt;\n",
       "        \n",
       "&lt;/body&gt;\n",
       "&lt;script&gt;\n",
       "    \n",
       "    \n",
       "            var map_605abdfc83f320daf36892e431a7eb31 = L.map(\n",
       "                &quot;map_605abdfc83f320daf36892e431a7eb31&quot;,\n",
       "                {\n",
       "                    center: [20.5937, 78.9629],\n",
       "                    crs: L.CRS.EPSG3857,\n",
       "                    zoom: 5,\n",
       "                    zoomControl: true,\n",
       "                    preferCanvas: false,\n",
       "                }\n",
       "            );\n",
       "\n",
       "            \n",
       "\n",
       "        \n",
       "    \n",
       "            var tile_layer_dc628ed911e68c685f0175a3bbd5f187 = L.tileLayer(\n",
       "                &quot;https://tile.openstreetmap.org/{z}/{x}/{y}.png&quot;,\n",
       "                {&quot;attribution&quot;: &quot;\\u0026copy; \\u003ca href=\\&quot;https://www.openstreetmap.org/copyright\\&quot;\\u003eOpenStreetMap\\u003c/a\\u003e contributors&quot;, &quot;detectRetina&quot;: false, &quot;maxNativeZoom&quot;: 19, &quot;maxZoom&quot;: 19, &quot;minZoom&quot;: 0, &quot;noWrap&quot;: false, &quot;opacity&quot;: 1, &quot;subdomains&quot;: &quot;abc&quot;, &quot;tms&quot;: false}\n",
       "            );\n",
       "        \n",
       "    \n",
       "            tile_layer_dc628ed911e68c685f0175a3bbd5f187.addTo(map_605abdfc83f320daf36892e431a7eb31);\n",
       "        \n",
       "    \n",
       "            var marker_9ab40c5a6cca6059d96bb99fc11c29bd = L.marker(\n",
       "                [18.5196, 73.8553],\n",
       "                {}\n",
       "            ).addTo(map_605abdfc83f320daf36892e431a7eb31);\n",
       "        \n",
       "    \n",
       "        var popup_d1a28204c219107ab9f45e062e46064f = L.popup({&quot;maxWidth&quot;: &quot;100%&quot;});\n",
       "\n",
       "        \n",
       "            \n",
       "                var html_b4222df3575f90319f8fea15c6f994a1 = $(`&lt;div id=&quot;html_b4222df3575f90319f8fea15c6f994a1&quot; style=&quot;width: 100.0%; height: 100.0%;&quot;&gt;Location: Pune&lt;br&gt;Temperature (C): 23.52&lt;br&gt;Wind Speed (m/s): 4.79&lt;/div&gt;`)[0];\n",
       "                popup_d1a28204c219107ab9f45e062e46064f.setContent(html_b4222df3575f90319f8fea15c6f994a1);\n",
       "            \n",
       "        \n",
       "\n",
       "        marker_9ab40c5a6cca6059d96bb99fc11c29bd.bindPopup(popup_d1a28204c219107ab9f45e062e46064f)\n",
       "        ;\n",
       "\n",
       "        \n",
       "    \n",
       "    \n",
       "            marker_9ab40c5a6cca6059d96bb99fc11c29bd.bindTooltip(\n",
       "                `&lt;div&gt;\n",
       "                     Pune\n",
       "                 &lt;/div&gt;`,\n",
       "                {&quot;sticky&quot;: true}\n",
       "            );\n",
       "        \n",
       "    \n",
       "            var marker_e9ee63d7eb2216098ac217a4db64cf1b = L.marker(\n",
       "                [19.0144, 72.8479],\n",
       "                {}\n",
       "            ).addTo(map_605abdfc83f320daf36892e431a7eb31);\n",
       "        \n",
       "    \n",
       "        var popup_f677fbc22db1eff7c9f255791053322b = L.popup({&quot;maxWidth&quot;: &quot;100%&quot;});\n",
       "\n",
       "        \n",
       "            \n",
       "                var html_3275b464c32eadc99b03b7c1f618efa6 = $(`&lt;div id=&quot;html_3275b464c32eadc99b03b7c1f618efa6&quot; style=&quot;width: 100.0%; height: 100.0%;&quot;&gt;Location: Mumbai&lt;br&gt;Temperature (C): 26.99&lt;br&gt;Wind Speed (m/s): 2.57&lt;/div&gt;`)[0];\n",
       "                popup_f677fbc22db1eff7c9f255791053322b.setContent(html_3275b464c32eadc99b03b7c1f618efa6);\n",
       "            \n",
       "        \n",
       "\n",
       "        marker_e9ee63d7eb2216098ac217a4db64cf1b.bindPopup(popup_f677fbc22db1eff7c9f255791053322b)\n",
       "        ;\n",
       "\n",
       "        \n",
       "    \n",
       "    \n",
       "            marker_e9ee63d7eb2216098ac217a4db64cf1b.bindTooltip(\n",
       "                `&lt;div&gt;\n",
       "                     Mumbai\n",
       "                 &lt;/div&gt;`,\n",
       "                {&quot;sticky&quot;: true}\n",
       "            );\n",
       "        \n",
       "    \n",
       "            var marker_d9b3fdb0f580d104cabc2d665fef6fc2 = L.marker(\n",
       "                [28.6667, 77.2167],\n",
       "                {}\n",
       "            ).addTo(map_605abdfc83f320daf36892e431a7eb31);\n",
       "        \n",
       "    \n",
       "        var popup_b770643c571b96b2fca904889b38b547 = L.popup({&quot;maxWidth&quot;: &quot;100%&quot;});\n",
       "\n",
       "        \n",
       "            \n",
       "                var html_57f79f10d43118f15d8dae4c2f6eb0e9 = $(`&lt;div id=&quot;html_57f79f10d43118f15d8dae4c2f6eb0e9&quot; style=&quot;width: 100.0%; height: 100.0%;&quot;&gt;Location: Delhi&lt;br&gt;Temperature (C): 34.05&lt;br&gt;Wind Speed (m/s): 2.06&lt;/div&gt;`)[0];\n",
       "                popup_b770643c571b96b2fca904889b38b547.setContent(html_57f79f10d43118f15d8dae4c2f6eb0e9);\n",
       "            \n",
       "        \n",
       "\n",
       "        marker_d9b3fdb0f580d104cabc2d665fef6fc2.bindPopup(popup_b770643c571b96b2fca904889b38b547)\n",
       "        ;\n",
       "\n",
       "        \n",
       "    \n",
       "    \n",
       "            marker_d9b3fdb0f580d104cabc2d665fef6fc2.bindTooltip(\n",
       "                `&lt;div&gt;\n",
       "                     Delhi\n",
       "                 &lt;/div&gt;`,\n",
       "                {&quot;sticky&quot;: true}\n",
       "            );\n",
       "        \n",
       "    \n",
       "            var marker_411a705f8499a965b90fe9405e949a62 = L.marker(\n",
       "                [13.0878, 80.2785],\n",
       "                {}\n",
       "            ).addTo(map_605abdfc83f320daf36892e431a7eb31);\n",
       "        \n",
       "    \n",
       "        var popup_11392d2377ec23a97ae9a7870567ea7f = L.popup({&quot;maxWidth&quot;: &quot;100%&quot;});\n",
       "\n",
       "        \n",
       "            \n",
       "                var html_d8569d03c17a63f0d0b728d995968b17 = $(`&lt;div id=&quot;html_d8569d03c17a63f0d0b728d995968b17&quot; style=&quot;width: 100.0%; height: 100.0%;&quot;&gt;Location: Chennai&lt;br&gt;Temperature (C): 28.84&lt;br&gt;Wind Speed (m/s): 2.24&lt;/div&gt;`)[0];\n",
       "                popup_11392d2377ec23a97ae9a7870567ea7f.setContent(html_d8569d03c17a63f0d0b728d995968b17);\n",
       "            \n",
       "        \n",
       "\n",
       "        marker_411a705f8499a965b90fe9405e949a62.bindPopup(popup_11392d2377ec23a97ae9a7870567ea7f)\n",
       "        ;\n",
       "\n",
       "        \n",
       "    \n",
       "    \n",
       "            marker_411a705f8499a965b90fe9405e949a62.bindTooltip(\n",
       "                `&lt;div&gt;\n",
       "                     Chennai\n",
       "                 &lt;/div&gt;`,\n",
       "                {&quot;sticky&quot;: true}\n",
       "            );\n",
       "        \n",
       "    \n",
       "            var marker_564399ec82b2acf6f32f150c3f3ccfaa = L.marker(\n",
       "                [22.5697, 88.3697],\n",
       "                {}\n",
       "            ).addTo(map_605abdfc83f320daf36892e431a7eb31);\n",
       "        \n",
       "    \n",
       "        var popup_a97715f809a3df36355ffe586662a755 = L.popup({&quot;maxWidth&quot;: &quot;100%&quot;});\n",
       "\n",
       "        \n",
       "            \n",
       "                var html_503d237bc05dc0dbcaf26ec9cdf24753 = $(`&lt;div id=&quot;html_503d237bc05dc0dbcaf26ec9cdf24753&quot; style=&quot;width: 100.0%; height: 100.0%;&quot;&gt;Location: Kolkata&lt;br&gt;Temperature (C): 29.97&lt;br&gt;Wind Speed (m/s): 3.09&lt;/div&gt;`)[0];\n",
       "                popup_a97715f809a3df36355ffe586662a755.setContent(html_503d237bc05dc0dbcaf26ec9cdf24753);\n",
       "            \n",
       "        \n",
       "\n",
       "        marker_564399ec82b2acf6f32f150c3f3ccfaa.bindPopup(popup_a97715f809a3df36355ffe586662a755)\n",
       "        ;\n",
       "\n",
       "        \n",
       "    \n",
       "    \n",
       "            marker_564399ec82b2acf6f32f150c3f3ccfaa.bindTooltip(\n",
       "                `&lt;div&gt;\n",
       "                     Kolkata\n",
       "                 &lt;/div&gt;`,\n",
       "                {&quot;sticky&quot;: true}\n",
       "            );\n",
       "        \n",
       "    \n",
       "            tile_layer_dc628ed911e68c685f0175a3bbd5f187.addTo(map_605abdfc83f320daf36892e431a7eb31);\n",
       "        \n",
       "&lt;/script&gt;\n",
       "&lt;/html&gt;\" style=\"position:absolute;width:100%;height:100%;left:0;top:0;border:none !important;\" allowfullscreen webkitallowfullscreen mozallowfullscreen></iframe></div></div>"
      ],
      "text/plain": [
       "<folium.folium.Map at 0x218cf42b650>"
      ]
     },
     "execution_count": 41,
     "metadata": {},
     "output_type": "execute_result"
    }
   ],
   "source": [
    "import requests\n",
    "import pandas as pd\n",
    "import folium\n",
    "\n",
    "# Define a list of locations\n",
    "locations = ['Pune', 'Mumbai', 'Delhi', 'Chennai', 'Kolkata']\n",
    "\n",
    "# Fetch weather data for multiple locations\n",
    "api_key = '18896d417b61718248835471bedf9b54'\n",
    "weather_data = []\n",
    "\n",
    "for location in locations:\n",
    "    url = f'http://api.openweathermap.org/data/2.5/weather?q={location}&appid={api_key}'\n",
    "    response = requests.get(url)\n",
    "    data = response.json()\n",
    "    weather_info = {\n",
    "        'Location': location,\n",
    "        'Latitude': data['coord']['lat'],\n",
    "        'Longitude': data['coord']['lon'],\n",
    "        'Temperature (C)': data['main']['temp'] - 273.15,\n",
    "        'Wind Speed (m/s)': data['wind']['speed']\n",
    "    }\n",
    "    weather_data.append(weather_info)\n",
    "\n",
    "# Print the raw weather data to debug\n",
    "print(\"Weather Data:\\n\", weather_data)\n",
    "\n",
    "# Create a DataFrame\n",
    "df = pd.DataFrame(weather_data)\n",
    "\n",
    "# Print the DataFrame to debug\n",
    "print(\"\\nDataFrame:\\n\", df)\n",
    "\n",
    "# Create a map centered around India\n",
    "m = folium.Map(location=[20.5937, 78.9629], zoom_start=5)\n",
    "\n",
    "# Add markers to the map\n",
    "for i, row in df.iterrows():\n",
    "    folium.Marker(\n",
    "        location=[row['Latitude'], row['Longitude']],\n",
    "        popup=(\n",
    "            f\"Location: {row['Location']}<br>\"\n",
    "            f\"Temperature (C): {row['Temperature (C)']:.2f}<br>\"\n",
    "            f\"Wind Speed (m/s): {row['Wind Speed (m/s)']:.2f}\"\n",
    "        ),\n",
    "        tooltip=row['Location']\n",
    "    ).add_to(m)\n",
    "\n",
    "# Save the map to an HTML file\n",
    "m.save('weather_map.html')\n",
    "\n",
    "# Display the map\n",
    "m\n"
   ]
  },
  {
   "cell_type": "markdown",
   "id": "0ad734a8",
   "metadata": {},
   "source": [
    "### 9. Explore and visualize relationships between weather attributes, such as temperature and humidity, \n",
    "### using correlation plots or heatmaps. "
   ]
  },
  {
   "cell_type": "code",
   "execution_count": 45,
   "id": "70074985",
   "metadata": {},
   "outputs": [
    {
     "data": {
      "image/png": "[encoded data removed]",
      "text/plain": [
       "<Figure size 1000x700 with 2 Axes>"
      ]
     },
     "metadata": {},
     "output_type": "display_data"
    }
   ],
   "source": [
    "import seaborn as sns\n",
    "## Correlation Heatmap\n",
    "numeric_df = df.select_dtypes(include=['number'])\n",
    "\n",
    "# Compute the correlation matrix\n",
    "correlation_matrix = numeric_df.corr()\n",
    "\n",
    "# Plot the heatmap\n",
    "plt.figure(figsize=(10, 7))\n",
    "sns.heatmap(correlation_matrix, annot=True, cmap='coolwarm')\n",
    "plt.show()"
   ]
  },
  {
   "cell_type": "code",
   "execution_count": null,
   "id": "3a0f0cf4",
   "metadata": {},
   "outputs": [],
   "source": []
  }
 ],
 "metadata": {
  "kernelspec": {
   "display_name": "Python 3 (ipykernel)",
   "language": "python",
   "name": "python3"
  },
  "language_info": {
   "codemirror_mode": {
    "name": "ipython",
    "version": 3
   },
   "file_extension": ".py",
   "mimetype": "text/x-python",
   "name": "python",
   "nbconvert_exporter": "python",
   "pygments_lexer": "ipython3",
   "version": "3.11.5"
  }
 },
 "nbformat": 4,
 "nbformat_minor": 5
}

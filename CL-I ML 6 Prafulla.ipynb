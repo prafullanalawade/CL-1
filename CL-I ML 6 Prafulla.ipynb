{
 "cells": [
  {
   "cell_type": "code",
   "execution_count": null,
   "id": "d889f3c9",
   "metadata": {},
   "outputs": [],
   "source": [
    "Name - Nalawade Prafulla Chandrashekhar.\n",
    "Build a Tic-Tac-Toe game using reinforcement learning in Python by using following\n",
    "tasks\n",
    "a. Setting up the environment\n",
    "b. Defining the Tic-Tac-Toe game\n",
    "c. Building the reinforcement learning model\n",
    "d. Training the model\n",
    "e. Testing the model"
   ]
  },
  {
   "cell_type": "code",
   "execution_count": 8,
   "id": "973c07e8",
   "metadata": {},
   "outputs": [],
   "source": [
    "import numpy as np\n",
    "import random"
   ]
  },
  {
   "cell_type": "code",
   "execution_count": 9,
   "id": "3b81faf0",
   "metadata": {},
   "outputs": [],
   "source": [
    "# The Tic-Tac-Toe Environment\n",
    "class TicTacToe:\n",
    "    def __init__(self):\n",
    "        self.board = np.zeros((3, 3), dtype=int)\n",
    "        self.done = False\n",
    "        self.winner = None\n",
    "    \n",
    "    def reset(self):\n",
    "        self.board = np.zeros((3, 3), dtype=int)\n",
    "        self.done = False\n",
    "        self.winner = None\n",
    "        return self.board\n",
    "    \n",
    "    def available_actions(self):\n",
    "        return list(zip(*np.where(self.board == 0)))\n",
    "    \n",
    "    def step(self, action, player):\n",
    "        if self.board[action] != 0:\n",
    "            raise ValueError(\"Invalid Action\")\n",
    "        self.board[action] = player\n",
    "        self.done, self.winner = self.check_winner()\n",
    "        reward = 0\n",
    "        if self.done:\n",
    "            if self.winner == player:\n",
    "                reward = 1  # Winning\n",
    "            elif self.winner == 0:\n",
    "                reward = 0.5  # Draw\n",
    "            else:\n",
    "                reward = -1  # Losing\n",
    "        return self.board, reward, self.done\n",
    "    \n",
    "    def check_winner(self):\n",
    "        for i in range(3):\n",
    "            if np.all(self.board[i, :] == self.board[i, 0]) and self.board[i, 0] != 0:\n",
    "                return True, self.board[i, 0]\n",
    "            if np.all(self.board[:, i] == self.board[0, i]) and self.board[0, i] != 0:\n",
    "                return True, self.board[0, i]\n",
    "        \n",
    "        if np.all(np.diag(self.board) == self.board[0, 0]) and self.board[0, 0] != 0:\n",
    "            return True, self.board[0, 0]\n",
    "        if np.all(np.diag(np.fliplr(self.board)) == self.board[0, 2]) and self.board[0, 2] != 0:\n",
    "            return True, self.board[0, 2]\n",
    "        \n",
    "        if np.all(self.board != 0):\n",
    "            return True, 0  # Draw\n",
    "        \n",
    "        return False, None\n"
   ]
  },
  {
   "cell_type": "code",
   "execution_count": 10,
   "id": "303e3311",
   "metadata": {},
   "outputs": [],
   "source": [
    "# Define the Q-Learning Agent\n",
    "class QLearningAgent:\n",
    "    def __init__(self, epsilon=0.1, alpha=0.5, gamma=0.9):\n",
    "        self.q_table = {}\n",
    "        self.epsilon = epsilon  \n",
    "        self.alpha = alpha  \n",
    "        self.gamma = gamma \n",
    "    \n",
    "    def get_q_value(self, state, action):\n",
    "        return self.q_table.get((state, action), 0.0)\n",
    "    \n",
    "    def update_q_value(self, state, action, reward, next_state, available_actions):\n",
    "        best_next_action = max(self.q_table.get((next_state, a), 0.0) for a in available_actions)\n",
    "        self.q_table[(state, action)] = (1 - self.alpha) * self.get_q_value(state, action) + self.alpha * (reward + self.gamma * best_next_action)\n",
    "    \n",
    "    def choose_action(self, state, actions):\n",
    "        if random.uniform(0, 1) < self.epsilon:\n",
    "            return random.choice(actions)  \n",
    "        q_values = [self.get_q_value(state, a) for a in actions]\n",
    "        max_q = max(q_values)\n",
    "        return actions[q_values.index(max_q)]  "
   ]
  },
  {
   "cell_type": "code",
   "execution_count": 11,
   "id": "03c3a611",
   "metadata": {},
   "outputs": [],
   "source": [
    "# The Training Function\n",
    "def train(agent, episodes=10000):\n",
    "    for episode in range(episodes):\n",
    "        game = TicTacToe()\n",
    "        state = game.reset()\n",
    "        player = 1\n",
    "        while True:\n",
    "            available_actions = game.available_actions()\n",
    "            action = agent.choose_action(state.tobytes(), available_actions)\n",
    "            next_state, reward, done = game.step(action, player)\n",
    "            if done:\n",
    "                agent.update_q_value(state.tobytes(), action, reward, next_state.tobytes(), available_actions)\n",
    "                break\n",
    "            agent.update_q_value(state.tobytes(), action, 0, next_state.tobytes(), game.available_actions())\n",
    "            state = next_state\n",
    "            player = 2 if player == 1 else 1"
   ]
  },
  {
   "cell_type": "code",
   "execution_count": 12,
   "id": "e6cb3c4c",
   "metadata": {},
   "outputs": [],
   "source": [
    "# Train the Agent\n",
    "agent = QLearningAgent()\n",
    "train(agent)"
   ]
  },
  {
   "cell_type": "code",
   "execution_count": 14,
   "id": "17a84ba1",
   "metadata": {},
   "outputs": [
    {
     "name": "stdout",
     "output_type": "stream",
     "text": [
      "[[0 0 0]\n",
      " [0 0 0]\n",
      " [0 0 0]]\n",
      "[[1 0 0]\n",
      " [0 0 0]\n",
      " [0 0 0]]\n",
      "[[1 0 0]\n",
      " [0 2 0]\n",
      " [0 0 0]]\n",
      "[[1 1 0]\n",
      " [0 2 0]\n",
      " [0 0 0]]\n",
      "[[1 1 0]\n",
      " [0 2 0]\n",
      " [0 2 0]]\n",
      "Game over!\n",
      "[[1 1 1]\n",
      " [0 2 0]\n",
      " [0 2 0]]\n",
      "Player 1 wins!\n"
     ]
    }
   ],
   "source": [
    "# Test the Model by Playing a Game\n",
    "def play_game(agent):\n",
    "    game = TicTacToe()\n",
    "    state = game.reset()\n",
    "    player = 1\n",
    "    while True:\n",
    "        print(game.board)\n",
    "        if player == 1:\n",
    "            available_actions = game.available_actions()\n",
    "            action = agent.choose_action(state.tobytes(), available_actions)\n",
    "        else:\n",
    "            action = random.choice(game.available_actions())  # Random Agent\n",
    "        next_state, reward, done = game.step(action, player)\n",
    "        if done:\n",
    "            print(\"Game over!\")\n",
    "            print(game.board)\n",
    "            if game.winner == 0:\n",
    "                print(\"It's a draw!\")\n",
    "            else:\n",
    "                print(f\"Player {game.winner} wins!\")\n",
    "            break\n",
    "        state = next_state\n",
    "        player = 2 if player == 1 else 1\n",
    "\n",
    "play_game(agent)"
   ]
  },
  {
   "cell_type": "code",
   "execution_count": null,
   "id": "633b5696",
   "metadata": {},
   "outputs": [],
   "source": []
  }
 ],
 "metadata": {
  "kernelspec": {
   "display_name": "Python 3 (ipykernel)",
   "language": "python",
   "name": "python3"
  },
  "language_info": {
   "codemirror_mode": {
    "name": "ipython",
    "version": 3
   },
   "file_extension": ".py",
   "mimetype": "text/x-python",
   "name": "python",
   "nbconvert_exporter": "python",
   "pygments_lexer": "ipython3",
   "version": "3.11.5"
  }
 },
 "nbformat": 4,
 "nbformat_minor": 5
}

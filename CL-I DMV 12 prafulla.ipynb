{
 "cells": [
  {
   "cell_type": "code",
   "execution_count": 43,
   "id": "816ef295",
   "metadata": {},
   "outputs": [],
   "source": [
    "#Name : Nalawade Prafulla Chandrashekhar.\n",
    "#Roll No.: 43 B.E.A.I.& D.S."
   ]
  },
  {
   "cell_type": "code",
   "execution_count": 3,
   "id": "aa309a66",
   "metadata": {},
   "outputs": [],
   "source": [
    "# 12. Data Aggregation\n",
    "# Problem Statement: Analyzing Sales Performance by Region in a Retail Company\n",
    "# Dataset: \"Retail_Sales_Data.csv\"\n",
    "# Description: The dataset contains information about sales transactions in a retail company. It \n",
    "# includes attributes such as transaction date, product category, quantity sold, and sales \n",
    "# amount. The goal is to perform data aggregation to analyze the sales performance by region \n",
    "# and identify the top-performing regions.\n",
    "# Tasks to Perform:"
   ]
  },
  {
   "cell_type": "code",
   "execution_count": 4,
   "id": "e1bbe040",
   "metadata": {},
   "outputs": [],
   "source": [
    "# 1. Import the \"Retail_Sales_Data.csv\" dataset."
   ]
  },
  {
   "cell_type": "code",
   "execution_count": 31,
   "id": "5472a60e",
   "metadata": {},
   "outputs": [],
   "source": [
    "import pandas as pd \n",
    "import matplotlib.pyplot as plt\n",
    "import seaborn as sns\n",
    "\n"
   ]
  },
  {
   "cell_type": "code",
   "execution_count": 7,
   "id": "73177ed8",
   "metadata": {},
   "outputs": [],
   "source": [
    "df= pd.read_csv(r\"C:\\Users\\PRAFULL\\Downloads\\Retail_Sales_Data.csv\")"
   ]
  },
  {
   "cell_type": "code",
   "execution_count": 8,
   "id": "06ece361",
   "metadata": {},
   "outputs": [
    {
     "data": {
      "text/html": [
       "<div>\n",
       "<style scoped>\n",
       "    .dataframe tbody tr th:only-of-type {\n",
       "        vertical-align: middle;\n",
       "    }\n",
       "\n",
       "    .dataframe tbody tr th {\n",
       "        vertical-align: top;\n",
       "    }\n",
       "\n",
       "    .dataframe thead th {\n",
       "        text-align: right;\n",
       "    }\n",
       "</style>\n",
       "<table border=\"1\" class=\"dataframe\">\n",
       "  <thead>\n",
       "    <tr style=\"text-align: right;\">\n",
       "      <th></th>\n",
       "      <th>Transaction ID</th>\n",
       "      <th>Date</th>\n",
       "      <th>Customer ID</th>\n",
       "      <th>Gender</th>\n",
       "      <th>Age</th>\n",
       "      <th>Region</th>\n",
       "      <th>Product Category</th>\n",
       "      <th>Quantity</th>\n",
       "      <th>Price per Unit</th>\n",
       "      <th>Sales Amount</th>\n",
       "    </tr>\n",
       "  </thead>\n",
       "  <tbody>\n",
       "    <tr>\n",
       "      <th>0</th>\n",
       "      <td>1</td>\n",
       "      <td>24-11-2023</td>\n",
       "      <td>CUST001</td>\n",
       "      <td>Male</td>\n",
       "      <td>34</td>\n",
       "      <td>usa</td>\n",
       "      <td>Beauty</td>\n",
       "      <td>3</td>\n",
       "      <td>50</td>\n",
       "      <td>150</td>\n",
       "    </tr>\n",
       "    <tr>\n",
       "      <th>1</th>\n",
       "      <td>2</td>\n",
       "      <td>27-02-2023</td>\n",
       "      <td>CUST002</td>\n",
       "      <td>Female</td>\n",
       "      <td>26</td>\n",
       "      <td>india</td>\n",
       "      <td>Clothing</td>\n",
       "      <td>2</td>\n",
       "      <td>500</td>\n",
       "      <td>1000</td>\n",
       "    </tr>\n",
       "    <tr>\n",
       "      <th>2</th>\n",
       "      <td>3</td>\n",
       "      <td>13-01-2023</td>\n",
       "      <td>CUST003</td>\n",
       "      <td>Male</td>\n",
       "      <td>50</td>\n",
       "      <td>pak</td>\n",
       "      <td>Electronics</td>\n",
       "      <td>1</td>\n",
       "      <td>30</td>\n",
       "      <td>30</td>\n",
       "    </tr>\n",
       "    <tr>\n",
       "      <th>3</th>\n",
       "      <td>4</td>\n",
       "      <td>21-05-2023</td>\n",
       "      <td>CUST004</td>\n",
       "      <td>Male</td>\n",
       "      <td>37</td>\n",
       "      <td>usa</td>\n",
       "      <td>Clothing</td>\n",
       "      <td>1</td>\n",
       "      <td>500</td>\n",
       "      <td>500</td>\n",
       "    </tr>\n",
       "    <tr>\n",
       "      <th>4</th>\n",
       "      <td>5</td>\n",
       "      <td>06-05-2023</td>\n",
       "      <td>CUST005</td>\n",
       "      <td>Male</td>\n",
       "      <td>30</td>\n",
       "      <td>india</td>\n",
       "      <td>Beauty</td>\n",
       "      <td>2</td>\n",
       "      <td>50</td>\n",
       "      <td>100</td>\n",
       "    </tr>\n",
       "    <tr>\n",
       "      <th>...</th>\n",
       "      <td>...</td>\n",
       "      <td>...</td>\n",
       "      <td>...</td>\n",
       "      <td>...</td>\n",
       "      <td>...</td>\n",
       "      <td>...</td>\n",
       "      <td>...</td>\n",
       "      <td>...</td>\n",
       "      <td>...</td>\n",
       "      <td>...</td>\n",
       "    </tr>\n",
       "    <tr>\n",
       "      <th>995</th>\n",
       "      <td>996</td>\n",
       "      <td>16-05-2023</td>\n",
       "      <td>CUST996</td>\n",
       "      <td>Male</td>\n",
       "      <td>62</td>\n",
       "      <td>pak</td>\n",
       "      <td>Clothing</td>\n",
       "      <td>1</td>\n",
       "      <td>50</td>\n",
       "      <td>50</td>\n",
       "    </tr>\n",
       "    <tr>\n",
       "      <th>996</th>\n",
       "      <td>997</td>\n",
       "      <td>17-11-2023</td>\n",
       "      <td>CUST997</td>\n",
       "      <td>Male</td>\n",
       "      <td>52</td>\n",
       "      <td>usa</td>\n",
       "      <td>Beauty</td>\n",
       "      <td>3</td>\n",
       "      <td>30</td>\n",
       "      <td>90</td>\n",
       "    </tr>\n",
       "    <tr>\n",
       "      <th>997</th>\n",
       "      <td>998</td>\n",
       "      <td>29-10-2023</td>\n",
       "      <td>CUST998</td>\n",
       "      <td>Female</td>\n",
       "      <td>23</td>\n",
       "      <td>india</td>\n",
       "      <td>Beauty</td>\n",
       "      <td>4</td>\n",
       "      <td>25</td>\n",
       "      <td>100</td>\n",
       "    </tr>\n",
       "    <tr>\n",
       "      <th>998</th>\n",
       "      <td>999</td>\n",
       "      <td>05-12-2023</td>\n",
       "      <td>CUST999</td>\n",
       "      <td>Female</td>\n",
       "      <td>36</td>\n",
       "      <td>pak</td>\n",
       "      <td>Electronics</td>\n",
       "      <td>3</td>\n",
       "      <td>50</td>\n",
       "      <td>150</td>\n",
       "    </tr>\n",
       "    <tr>\n",
       "      <th>999</th>\n",
       "      <td>1000</td>\n",
       "      <td>12-04-2023</td>\n",
       "      <td>CUST1000</td>\n",
       "      <td>Male</td>\n",
       "      <td>47</td>\n",
       "      <td>usa</td>\n",
       "      <td>Electronics</td>\n",
       "      <td>4</td>\n",
       "      <td>30</td>\n",
       "      <td>120</td>\n",
       "    </tr>\n",
       "  </tbody>\n",
       "</table>\n",
       "<p>1000 rows × 10 columns</p>\n",
       "</div>"
      ],
      "text/plain": [
       "     Transaction ID        Date Customer ID  Gender  Age Region  \\\n",
       "0                 1  24-11-2023     CUST001    Male   34    usa   \n",
       "1                 2  27-02-2023     CUST002  Female   26  india   \n",
       "2                 3  13-01-2023     CUST003    Male   50    pak   \n",
       "3                 4  21-05-2023     CUST004    Male   37    usa   \n",
       "4                 5  06-05-2023     CUST005    Male   30  india   \n",
       "..              ...         ...         ...     ...  ...    ...   \n",
       "995             996  16-05-2023     CUST996    Male   62    pak   \n",
       "996             997  17-11-2023     CUST997    Male   52    usa   \n",
       "997             998  29-10-2023     CUST998  Female   23  india   \n",
       "998             999  05-12-2023     CUST999  Female   36    pak   \n",
       "999            1000  12-04-2023    CUST1000    Male   47    usa   \n",
       "\n",
       "    Product Category  Quantity  Price per Unit  Sales Amount  \n",
       "0             Beauty         3              50           150  \n",
       "1           Clothing         2             500          1000  \n",
       "2        Electronics         1              30            30  \n",
       "3           Clothing         1             500           500  \n",
       "4             Beauty         2              50           100  \n",
       "..               ...       ...             ...           ...  \n",
       "995         Clothing         1              50            50  \n",
       "996           Beauty         3              30            90  \n",
       "997           Beauty         4              25           100  \n",
       "998      Electronics         3              50           150  \n",
       "999      Electronics         4              30           120  \n",
       "\n",
       "[1000 rows x 10 columns]"
      ]
     },
     "execution_count": 8,
     "metadata": {},
     "output_type": "execute_result"
    }
   ],
   "source": [
    "df"
   ]
  },
  {
   "cell_type": "code",
   "execution_count": 9,
   "id": "a362c986",
   "metadata": {},
   "outputs": [],
   "source": [
    "# 2. Explore the dataset to understand its structure and content."
   ]
  },
  {
   "cell_type": "code",
   "execution_count": 10,
   "id": "58078bb6",
   "metadata": {
    "scrolled": true
   },
   "outputs": [
    {
     "data": {
      "text/plain": [
       "<bound method DataFrame.info of      Transaction ID        Date Customer ID  Gender  Age Region  \\\n",
       "0                 1  24-11-2023     CUST001    Male   34    usa   \n",
       "1                 2  27-02-2023     CUST002  Female   26  india   \n",
       "2                 3  13-01-2023     CUST003    Male   50    pak   \n",
       "3                 4  21-05-2023     CUST004    Male   37    usa   \n",
       "4                 5  06-05-2023     CUST005    Male   30  india   \n",
       "..              ...         ...         ...     ...  ...    ...   \n",
       "995             996  16-05-2023     CUST996    Male   62    pak   \n",
       "996             997  17-11-2023     CUST997    Male   52    usa   \n",
       "997             998  29-10-2023     CUST998  Female   23  india   \n",
       "998             999  05-12-2023     CUST999  Female   36    pak   \n",
       "999            1000  12-04-2023    CUST1000    Male   47    usa   \n",
       "\n",
       "    Product Category  Quantity  Price per Unit  Sales Amount  \n",
       "0             Beauty         3              50           150  \n",
       "1           Clothing         2             500          1000  \n",
       "2        Electronics         1              30            30  \n",
       "3           Clothing         1             500           500  \n",
       "4             Beauty         2              50           100  \n",
       "..               ...       ...             ...           ...  \n",
       "995         Clothing         1              50            50  \n",
       "996           Beauty         3              30            90  \n",
       "997           Beauty         4              25           100  \n",
       "998      Electronics         3              50           150  \n",
       "999      Electronics         4              30           120  \n",
       "\n",
       "[1000 rows x 10 columns]>"
      ]
     },
     "execution_count": 10,
     "metadata": {},
     "output_type": "execute_result"
    }
   ],
   "source": [
    "df.info"
   ]
  },
  {
   "cell_type": "code",
   "execution_count": 11,
   "id": "d98dd2b0",
   "metadata": {},
   "outputs": [
    {
     "data": {
      "text/html": [
       "<div>\n",
       "<style scoped>\n",
       "    .dataframe tbody tr th:only-of-type {\n",
       "        vertical-align: middle;\n",
       "    }\n",
       "\n",
       "    .dataframe tbody tr th {\n",
       "        vertical-align: top;\n",
       "    }\n",
       "\n",
       "    .dataframe thead th {\n",
       "        text-align: right;\n",
       "    }\n",
       "</style>\n",
       "<table border=\"1\" class=\"dataframe\">\n",
       "  <thead>\n",
       "    <tr style=\"text-align: right;\">\n",
       "      <th></th>\n",
       "      <th>Transaction ID</th>\n",
       "      <th>Age</th>\n",
       "      <th>Quantity</th>\n",
       "      <th>Price per Unit</th>\n",
       "      <th>Sales Amount</th>\n",
       "    </tr>\n",
       "  </thead>\n",
       "  <tbody>\n",
       "    <tr>\n",
       "      <th>count</th>\n",
       "      <td>1000.000000</td>\n",
       "      <td>1000.00000</td>\n",
       "      <td>1000.000000</td>\n",
       "      <td>1000.000000</td>\n",
       "      <td>1000.000000</td>\n",
       "    </tr>\n",
       "    <tr>\n",
       "      <th>mean</th>\n",
       "      <td>500.500000</td>\n",
       "      <td>41.39200</td>\n",
       "      <td>2.514000</td>\n",
       "      <td>179.890000</td>\n",
       "      <td>456.000000</td>\n",
       "    </tr>\n",
       "    <tr>\n",
       "      <th>std</th>\n",
       "      <td>288.819436</td>\n",
       "      <td>13.68143</td>\n",
       "      <td>1.132734</td>\n",
       "      <td>189.681356</td>\n",
       "      <td>559.997632</td>\n",
       "    </tr>\n",
       "    <tr>\n",
       "      <th>min</th>\n",
       "      <td>1.000000</td>\n",
       "      <td>18.00000</td>\n",
       "      <td>1.000000</td>\n",
       "      <td>25.000000</td>\n",
       "      <td>25.000000</td>\n",
       "    </tr>\n",
       "    <tr>\n",
       "      <th>25%</th>\n",
       "      <td>250.750000</td>\n",
       "      <td>29.00000</td>\n",
       "      <td>1.000000</td>\n",
       "      <td>30.000000</td>\n",
       "      <td>60.000000</td>\n",
       "    </tr>\n",
       "    <tr>\n",
       "      <th>50%</th>\n",
       "      <td>500.500000</td>\n",
       "      <td>42.00000</td>\n",
       "      <td>3.000000</td>\n",
       "      <td>50.000000</td>\n",
       "      <td>135.000000</td>\n",
       "    </tr>\n",
       "    <tr>\n",
       "      <th>75%</th>\n",
       "      <td>750.250000</td>\n",
       "      <td>53.00000</td>\n",
       "      <td>4.000000</td>\n",
       "      <td>300.000000</td>\n",
       "      <td>900.000000</td>\n",
       "    </tr>\n",
       "    <tr>\n",
       "      <th>max</th>\n",
       "      <td>1000.000000</td>\n",
       "      <td>64.00000</td>\n",
       "      <td>4.000000</td>\n",
       "      <td>500.000000</td>\n",
       "      <td>2000.000000</td>\n",
       "    </tr>\n",
       "  </tbody>\n",
       "</table>\n",
       "</div>"
      ],
      "text/plain": [
       "       Transaction ID         Age     Quantity  Price per Unit  Sales Amount\n",
       "count     1000.000000  1000.00000  1000.000000     1000.000000   1000.000000\n",
       "mean       500.500000    41.39200     2.514000      179.890000    456.000000\n",
       "std        288.819436    13.68143     1.132734      189.681356    559.997632\n",
       "min          1.000000    18.00000     1.000000       25.000000     25.000000\n",
       "25%        250.750000    29.00000     1.000000       30.000000     60.000000\n",
       "50%        500.500000    42.00000     3.000000       50.000000    135.000000\n",
       "75%        750.250000    53.00000     4.000000      300.000000    900.000000\n",
       "max       1000.000000    64.00000     4.000000      500.000000   2000.000000"
      ]
     },
     "execution_count": 11,
     "metadata": {},
     "output_type": "execute_result"
    }
   ],
   "source": [
    "df.describe()"
   ]
  },
  {
   "cell_type": "code",
   "execution_count": 12,
   "id": "fa83bd85",
   "metadata": {},
   "outputs": [
    {
     "data": {
      "text/plain": [
       "(1000, 10)"
      ]
     },
     "execution_count": 12,
     "metadata": {},
     "output_type": "execute_result"
    }
   ],
   "source": [
    "df.shape"
   ]
  },
  {
   "cell_type": "code",
   "execution_count": 13,
   "id": "5ce1343d",
   "metadata": {},
   "outputs": [
    {
     "data": {
      "text/plain": [
       "Index(['Transaction ID', 'Date', 'Customer ID', 'Gender', 'Age', 'Region',\n",
       "       'Product Category', 'Quantity', 'Price per Unit', 'Sales Amount'],\n",
       "      dtype='object')"
      ]
     },
     "execution_count": 13,
     "metadata": {},
     "output_type": "execute_result"
    }
   ],
   "source": [
    "df.columns"
   ]
  },
  {
   "cell_type": "code",
   "execution_count": 14,
   "id": "fb41b2d0",
   "metadata": {},
   "outputs": [
    {
     "data": {
      "text/html": [
       "<div>\n",
       "<style scoped>\n",
       "    .dataframe tbody tr th:only-of-type {\n",
       "        vertical-align: middle;\n",
       "    }\n",
       "\n",
       "    .dataframe tbody tr th {\n",
       "        vertical-align: top;\n",
       "    }\n",
       "\n",
       "    .dataframe thead th {\n",
       "        text-align: right;\n",
       "    }\n",
       "</style>\n",
       "<table border=\"1\" class=\"dataframe\">\n",
       "  <thead>\n",
       "    <tr style=\"text-align: right;\">\n",
       "      <th></th>\n",
       "      <th>Transaction ID</th>\n",
       "      <th>Date</th>\n",
       "      <th>Customer ID</th>\n",
       "      <th>Gender</th>\n",
       "      <th>Age</th>\n",
       "      <th>Region</th>\n",
       "      <th>Product Category</th>\n",
       "      <th>Quantity</th>\n",
       "      <th>Price per Unit</th>\n",
       "      <th>Sales Amount</th>\n",
       "    </tr>\n",
       "  </thead>\n",
       "  <tbody>\n",
       "    <tr>\n",
       "      <th>0</th>\n",
       "      <td>1</td>\n",
       "      <td>24-11-2023</td>\n",
       "      <td>CUST001</td>\n",
       "      <td>Male</td>\n",
       "      <td>34</td>\n",
       "      <td>usa</td>\n",
       "      <td>Beauty</td>\n",
       "      <td>3</td>\n",
       "      <td>50</td>\n",
       "      <td>150</td>\n",
       "    </tr>\n",
       "    <tr>\n",
       "      <th>1</th>\n",
       "      <td>2</td>\n",
       "      <td>27-02-2023</td>\n",
       "      <td>CUST002</td>\n",
       "      <td>Female</td>\n",
       "      <td>26</td>\n",
       "      <td>india</td>\n",
       "      <td>Clothing</td>\n",
       "      <td>2</td>\n",
       "      <td>500</td>\n",
       "      <td>1000</td>\n",
       "    </tr>\n",
       "    <tr>\n",
       "      <th>2</th>\n",
       "      <td>3</td>\n",
       "      <td>13-01-2023</td>\n",
       "      <td>CUST003</td>\n",
       "      <td>Male</td>\n",
       "      <td>50</td>\n",
       "      <td>pak</td>\n",
       "      <td>Electronics</td>\n",
       "      <td>1</td>\n",
       "      <td>30</td>\n",
       "      <td>30</td>\n",
       "    </tr>\n",
       "    <tr>\n",
       "      <th>3</th>\n",
       "      <td>4</td>\n",
       "      <td>21-05-2023</td>\n",
       "      <td>CUST004</td>\n",
       "      <td>Male</td>\n",
       "      <td>37</td>\n",
       "      <td>usa</td>\n",
       "      <td>Clothing</td>\n",
       "      <td>1</td>\n",
       "      <td>500</td>\n",
       "      <td>500</td>\n",
       "    </tr>\n",
       "    <tr>\n",
       "      <th>4</th>\n",
       "      <td>5</td>\n",
       "      <td>06-05-2023</td>\n",
       "      <td>CUST005</td>\n",
       "      <td>Male</td>\n",
       "      <td>30</td>\n",
       "      <td>india</td>\n",
       "      <td>Beauty</td>\n",
       "      <td>2</td>\n",
       "      <td>50</td>\n",
       "      <td>100</td>\n",
       "    </tr>\n",
       "  </tbody>\n",
       "</table>\n",
       "</div>"
      ],
      "text/plain": [
       "   Transaction ID        Date Customer ID  Gender  Age Region  \\\n",
       "0               1  24-11-2023     CUST001    Male   34    usa   \n",
       "1               2  27-02-2023     CUST002  Female   26  india   \n",
       "2               3  13-01-2023     CUST003    Male   50    pak   \n",
       "3               4  21-05-2023     CUST004    Male   37    usa   \n",
       "4               5  06-05-2023     CUST005    Male   30  india   \n",
       "\n",
       "  Product Category  Quantity  Price per Unit  Sales Amount  \n",
       "0           Beauty         3              50           150  \n",
       "1         Clothing         2             500          1000  \n",
       "2      Electronics         1              30            30  \n",
       "3         Clothing         1             500           500  \n",
       "4           Beauty         2              50           100  "
      ]
     },
     "execution_count": 14,
     "metadata": {},
     "output_type": "execute_result"
    }
   ],
   "source": [
    "df.head()"
   ]
  },
  {
   "cell_type": "code",
   "execution_count": 15,
   "id": "71179e61",
   "metadata": {},
   "outputs": [
    {
     "data": {
      "text/plain": [
       "Transaction ID       int64\n",
       "Date                object\n",
       "Customer ID         object\n",
       "Gender              object\n",
       "Age                  int64\n",
       "Region              object\n",
       "Product Category    object\n",
       "Quantity             int64\n",
       "Price per Unit       int64\n",
       "Sales Amount         int64\n",
       "dtype: object"
      ]
     },
     "execution_count": 15,
     "metadata": {},
     "output_type": "execute_result"
    }
   ],
   "source": [
    "df.dtypes"
   ]
  },
  {
   "cell_type": "code",
   "execution_count": 16,
   "id": "e7429021",
   "metadata": {},
   "outputs": [
    {
     "data": {
      "text/plain": [
       "Transaction ID      0\n",
       "Date                0\n",
       "Customer ID         0\n",
       "Gender              0\n",
       "Age                 0\n",
       "Region              0\n",
       "Product Category    0\n",
       "Quantity            0\n",
       "Price per Unit      0\n",
       "Sales Amount        0\n",
       "dtype: int64"
      ]
     },
     "execution_count": 16,
     "metadata": {},
     "output_type": "execute_result"
    }
   ],
   "source": [
    "df.isna().sum()"
   ]
  },
  {
   "cell_type": "code",
   "execution_count": 17,
   "id": "6a347543",
   "metadata": {},
   "outputs": [],
   "source": [
    "# 3. Identify the relevant variables for aggregating sales data, such as region, sales amount, and product category."
   ]
  },
  {
   "cell_type": "code",
   "execution_count": 18,
   "id": "53d8a474",
   "metadata": {
    "scrolled": true
   },
   "outputs": [
    {
     "data": {
      "text/plain": [
       "Region\n",
       "india    154360\n",
       "pak      136975\n",
       "usa      164665\n",
       "Name: Sales Amount, dtype: int64"
      ]
     },
     "execution_count": 18,
     "metadata": {},
     "output_type": "execute_result"
    }
   ],
   "source": [
    "region_sales = df.groupby('Region')['Sales Amount'].sum()\n",
    "region_sales"
   ]
  },
  {
   "cell_type": "code",
   "execution_count": 19,
   "id": "eb770c56",
   "metadata": {},
   "outputs": [
    {
     "data": {
      "text/plain": [
       "Product Category\n",
       "Beauty         143515\n",
       "Clothing       155580\n",
       "Electronics    156905\n",
       "Name: Sales Amount, dtype: int64"
      ]
     },
     "execution_count": 19,
     "metadata": {},
     "output_type": "execute_result"
    }
   ],
   "source": [
    "category_sales = df.groupby('Product Category')['Sales Amount'].sum()\n",
    "category_sales"
   ]
  },
  {
   "cell_type": "code",
   "execution_count": 20,
   "id": "6beb8bcc",
   "metadata": {},
   "outputs": [
    {
     "data": {
      "text/plain": [
       "Region  Product Category\n",
       "india   Beauty              47525\n",
       "        Clothing            52855\n",
       "        Electronics         53980\n",
       "pak     Beauty              45935\n",
       "        Clothing            45915\n",
       "        Electronics         45125\n",
       "usa     Beauty              50055\n",
       "        Clothing            56810\n",
       "        Electronics         57800\n",
       "Name: Sales Amount, dtype: int64"
      ]
     },
     "execution_count": 20,
     "metadata": {},
     "output_type": "execute_result"
    }
   ],
   "source": [
    "region_category_sales = df.groupby(['Region', 'Product Category'])['Sales Amount'].sum()\n",
    "region_category_sales"
   ]
  },
  {
   "cell_type": "code",
   "execution_count": 21,
   "id": "2c8bf946",
   "metadata": {},
   "outputs": [],
   "source": [
    "Product_category = df.groupby('Product Category')['Sales Amount'].sum()"
   ]
  },
  {
   "cell_type": "code",
   "execution_count": 22,
   "id": "e0a8a119",
   "metadata": {},
   "outputs": [
    {
     "data": {
      "text/plain": [
       "Product Category\n",
       "Beauty         143515\n",
       "Clothing       155580\n",
       "Electronics    156905\n",
       "Name: Sales Amount, dtype: int64"
      ]
     },
     "execution_count": 22,
     "metadata": {},
     "output_type": "execute_result"
    }
   ],
   "source": [
    "Product_category"
   ]
  },
  {
   "cell_type": "code",
   "execution_count": 23,
   "id": "aa66b950",
   "metadata": {},
   "outputs": [],
   "source": [
    "# 4. Group the sales data by region and calculate the total sales amount for each region."
   ]
  },
  {
   "cell_type": "code",
   "execution_count": 27,
   "id": "f2d84662",
   "metadata": {},
   "outputs": [
    {
     "name": "stdout",
     "output_type": "stream",
     "text": [
      "  Region  Sales Amount\n",
      "0  india        154360\n",
      "1    pak        136975\n",
      "2    usa        164665\n"
     ]
    }
   ],
   "source": [
    "# Group by region and calculate the total sales amount for each region\n",
    "total_sales_by_region = df.groupby('Region')['Sales Amount'].sum().reset_index()\n",
    "\n",
    "\n",
    "# Print the result\n",
    "print(total_sales_by_region)"
   ]
  },
  {
   "cell_type": "code",
   "execution_count": null,
   "id": "62375ca4",
   "metadata": {},
   "outputs": [],
   "source": [
    "# 5. Create bar plots or pie charts to visualize the sales distribution by region."
   ]
  },
  {
   "cell_type": "code",
   "execution_count": 33,
   "id": "d6686244",
   "metadata": {},
   "outputs": [
    {
     "data": {
      "image/png": "[encoded data removed]",
      "text/plain": [
       "<Figure size 1000x600 with 1 Axes>"
      ]
     },
     "metadata": {},
     "output_type": "display_data"
    }
   ],
   "source": [
    "# Bar Plot\n",
    "plt.figure(figsize=(10, 6))\n",
    "sns.barplot(x='Region', y='Sales Amount', data=total_sales_by_region, palette='viridis')\n",
    "plt.title('Total Sales by Region')\n",
    "plt.xlabel('Region')\n",
    "plt.ylabel('Sales Amount')\n",
    "plt.show()\n"
   ]
  },
  {
   "cell_type": "code",
   "execution_count": 34,
   "id": "b82c1b2b",
   "metadata": {},
   "outputs": [
    {
     "data": {
      "image/png": "[encoded data removed]",
      "text/plain": [
       "<Figure size 800x800 with 1 Axes>"
      ]
     },
     "metadata": {},
     "output_type": "display_data"
    }
   ],
   "source": [
    "# Pie Chart\n",
    "plt.figure(figsize=(8, 8))\n",
    "plt.pie(total_sales_by_region['Sales Amount'], labels=total_sales_by_region['Region'], autopct='%1.1f%%', startangle=140, colors=sns.color_palette('viridis', len(total_sales_by_region)))\n",
    "plt.title('Sales Distribution by Region')\n",
    "plt.axis('equal')  # Equal aspect ratio ensures that pie is drawn as a circle.\n",
    "plt.show()"
   ]
  },
  {
   "cell_type": "code",
   "execution_count": 35,
   "id": "1e7ce118",
   "metadata": {},
   "outputs": [],
   "source": [
    "# 6. Identify the top-performing regions based on the highest sales amount."
   ]
  },
  {
   "cell_type": "code",
   "execution_count": 37,
   "id": "b1d0243f",
   "metadata": {},
   "outputs": [
    {
     "name": "stdout",
     "output_type": "stream",
     "text": [
      "  Region  Total Sales\n",
      "2    usa       164665\n",
      "0  india       154360\n",
      "1    pak       136975\n"
     ]
    }
   ],
   "source": [
    "# Group by region and calculate the total sales amount for each region\n",
    "total_sales_by_region = df.groupby('Region')['Sales Amount'].sum().reset_index()\n",
    "\n",
    "# Rename columns for clarity\n",
    "total_sales_by_region.columns = ['Region', 'Total Sales']\n",
    "\n",
    "# Sort the DataFrame by Total Sales in descending order\n",
    "sorted_sales_by_region = total_sales_by_region.sort_values(by='Total Sales', ascending=False)\n",
    "\n",
    "# Print the sorted DataFrame\n",
    "print(sorted_sales_by_region)"
   ]
  },
  {
   "cell_type": "code",
   "execution_count": null,
   "id": "706e430d",
   "metadata": {},
   "outputs": [],
   "source": [
    "# 7. Group the sales data by region and product category to calculate the total sales amount for each combination."
   ]
  },
  {
   "cell_type": "code",
   "execution_count": 40,
   "id": "0385264b",
   "metadata": {},
   "outputs": [
    {
     "name": "stdout",
     "output_type": "stream",
     "text": [
      "  Region Product Category  Total Sales\n",
      "0  india           Beauty        47525\n",
      "1  india         Clothing        52855\n",
      "2  india      Electronics        53980\n",
      "3    pak           Beauty        45935\n",
      "4    pak         Clothing        45915\n",
      "5    pak      Electronics        45125\n",
      "6    usa           Beauty        50055\n",
      "7    usa         Clothing        56810\n",
      "8    usa      Electronics        57800\n"
     ]
    }
   ],
   "source": [
    "# Group by region and product category and calculate the total sales amount for each combination\n",
    "total_sales_by_region_category = df.groupby(['Region', 'Product Category'])['Sales Amount'].sum().reset_index()\n",
    "\n",
    "# Rename columns for clarity\n",
    "total_sales_by_region_category.columns = ['Region', 'Product Category', 'Total Sales']\n",
    "\n",
    "# Print the result\n",
    "print(total_sales_by_region_category)\n",
    "\n"
   ]
  },
  {
   "cell_type": "code",
   "execution_count": null,
   "id": "6a117ae8",
   "metadata": {},
   "outputs": [],
   "source": [
    "# 8. Create stacked bar plots or grouped bar plots to compare the sales amounts across  different regions and product categories."
   ]
  },
  {
   "cell_type": "code",
   "execution_count": 41,
   "id": "af698780",
   "metadata": {},
   "outputs": [
    {
     "name": "stdout",
     "output_type": "stream",
     "text": [
      "Product Category  Beauty  Clothing  Electronics\n",
      "Region                                         \n",
      "india              47525     52855        53980\n",
      "pak                45935     45915        45125\n",
      "usa                50055     56810        57800\n"
     ]
    },
    {
     "data": {
      "text/plain": [
       "<Figure size 1400x800 with 0 Axes>"
      ]
     },
     "metadata": {},
     "output_type": "display_data"
    },
    {
     "data": {
      "image/png": "[encoded data removed]",
      "text/plain": [
       "<Figure size 640x480 with 1 Axes>"
      ]
     },
     "metadata": {},
     "output_type": "display_data"
    }
   ],
   "source": [
    "# Group by region and product category and calculate the total sales amount for each combination\n",
    "total_sales_by_region_category = df.groupby(['Region', 'Product Category'])['Sales Amount'].sum().unstack().fillna(0)\n",
    "\n",
    "# Print the result\n",
    "print(total_sales_by_region_category)\n",
    "\n",
    "# Create a grouped bar plot\n",
    "plt.figure(figsize=(14, 8))\n",
    "total_sales_by_region_category.plot(kind='bar', stacked=False, colormap='viridis')\n",
    "plt.title('Total Sales by Region and Product Category (Grouped)')\n",
    "plt.xlabel('Region')\n",
    "plt.ylabel('Total Sales')\n",
    "plt.legend(title='Product Category')\n",
    "plt.xticks(rotation=45)\n",
    "plt.show()"
   ]
  },
  {
   "cell_type": "code",
   "execution_count": 42,
   "id": "20239402",
   "metadata": {},
   "outputs": [
    {
     "data": {
      "text/plain": [
       "<Figure size 1400x800 with 0 Axes>"
      ]
     },
     "metadata": {},
     "output_type": "display_data"
    },
    {
     "data": {
      "image/png": "[encoded data removed]",
      "text/plain": [
       "<Figure size 640x480 with 1 Axes>"
      ]
     },
     "metadata": {},
     "output_type": "display_data"
    }
   ],
   "source": [
    "# Create a stacked bar plot\n",
    "plt.figure(figsize=(14, 8))\n",
    "total_sales_by_region_category.plot(kind='bar', stacked=True, colormap='viridis')\n",
    "plt.title('Total Sales by Region and Product Category (Stacked)')\n",
    "plt.xlabel('Region')\n",
    "plt.ylabel('Total Sales')\n",
    "plt.legend(title='Product Category')\n",
    "plt.xticks(rotation=45)\n",
    "plt.show()"
   ]
  },
  {
   "cell_type": "code",
   "execution_count": null,
   "id": "f6862cbe",
   "metadata": {},
   "outputs": [],
   "source": []
  }
 ],
 "metadata": {
  "kernelspec": {
   "display_name": "Python 3 (ipykernel)",
   "language": "python",
   "name": "python3"
  },
  "language_info": {
   "codemirror_mode": {
    "name": "ipython",
    "version": 3
   },
   "file_extension": ".py",
   "mimetype": "text/x-python",
   "name": "python",
   "nbconvert_exporter": "python",
   "pygments_lexer": "ipython3",
   "version": "3.11.5"
  }
 },
 "nbformat": 4,
 "nbformat_minor": 5
}
